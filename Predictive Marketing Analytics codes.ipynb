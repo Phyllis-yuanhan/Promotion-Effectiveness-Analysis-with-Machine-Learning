{
  "nbformat": 4,
  "nbformat_minor": 0,
  "metadata": {
    "kernelspec": {
      "display_name": "Python 3",
      "name": "python3"
    },
    "language_info": {
      "codemirror_mode": {
        "name": "ipython",
        "version": 3
      },
      "file_extension": ".py",
      "mimetype": "text/x-python",
      "name": "python",
      "nbconvert_exporter": "python",
      "pygments_lexer": "ipython3",
      "version": "3.7.3"
    },
    "colab": {
      "provenance": [],
      "machine_shape": "hm",
      "collapsed_sections": [
        "kqkWrtBSIaSV",
        "DkHhW_HZHRMI",
        "7yfs3d_K9hvi",
        "_vuUCLWLAleR",
        "MEHgDOTAhnGS",
        "BwR0KGZ-OTCF",
        "AjLgu7lgOWLH",
        "4p7jo_3Rr1Xj"
      ]
    }
  },
  "cells": [
    {
      "cell_type": "code",
      "source": [
        "# # intall packages if you don't have\n",
        "# !pip install tensorflow\n",
        "# !pip install scikeras\n",
        "# !pip install scikit-learn imbalanced-learn"
      ],
      "metadata": {
        "id": "25VXjkf7OuAB"
      },
      "execution_count": 45,
      "outputs": []
    },
    {
      "cell_type": "code",
      "metadata": {
        "id": "RRUc09ttIaSK"
      },
      "source": [
        "import pandas as pd\n",
        "import numpy as np\n",
        "from sklearn.ensemble import RandomForestClassifier\n",
        "from sklearn.model_selection import train_test_split\n",
        "from sklearn.metrics import roc_auc_score\n",
        "import matplotlib.pyplot as plt\n",
        "from sklearn.preprocessing import LabelEncoder\n",
        "import seaborn as sns\n",
        "# from imblearn.over_sampling import SMOTE\n",
        "from sklearn.metrics import accuracy_score, precision_score, recall_score, f1_score\n",
        "from sklearn.metrics import classification_report,confusion_matrix,accuracy_score\n",
        "\n",
        "from sklearn.model_selection import train_test_split, GridSearchCV\n",
        "from sklearn.preprocessing import MinMaxScaler,StandardScaler"
      ],
      "execution_count": 46,
      "outputs": []
    },
    {
      "cell_type": "markdown",
      "metadata": {
        "id": "EezAWWf6IaSQ"
      },
      "source": [
        "# Load Data\n",
        "\n",
        "Upload the files to your Google Drive and mount it in the Colab notebook using the code below.\n",
        "\n",
        "Files: `promos.csv.gz`, `test_history.csv.gz`, `train_history.csv.gz`, and `transactions.csv.gz`."
      ]
    },
    {
      "cell_type": "code",
      "metadata": {
        "id": "RWSJpsyKqHjH",
        "colab": {
          "base_uri": "https://localhost:8080/"
        },
        "outputId": "1d777143-61dd-4a3d-a6b8-9e4c0f622b73"
      },
      "source": [
        "# This will ask you to give Colab permission to access your Google Drive\n",
        "from google.colab import drive\n",
        "drive.mount('/content/drive')"
      ],
      "execution_count": 47,
      "outputs": [
        {
          "output_type": "stream",
          "name": "stdout",
          "text": [
            "Drive already mounted at /content/drive; to attempt to forcibly remount, call drive.mount(\"/content/drive\", force_remount=True).\n"
          ]
        }
      ]
    },
    {
      "cell_type": "code",
      "metadata": {
        "id": "FXnuCisKOkzr"
      },
      "source": [
        "# MODIFY THIS LINE with the path to where you saved the datafiles on your Google drive\n",
        "path = '/content/drive/MyDrive/RSM8521 Deep Learning/A3'"
      ],
      "execution_count": 48,
      "outputs": []
    },
    {
      "cell_type": "code",
      "metadata": {
        "id": "Tiufe72OIaSQ",
        "colab": {
          "base_uri": "https://localhost:8080/",
          "height": 206
        },
        "outputId": "7bbb353f-70d4-489e-dda3-dbd223d16e65"
      },
      "source": [
        "promos = pd.read_csv(path + '/promos.csv.gz')\n",
        "promos.head()"
      ],
      "execution_count": 49,
      "outputs": [
        {
          "output_type": "execute_result",
          "data": {
            "text/plain": [
              "    promo  category  promoqty  manufacturer  promoval       brand\n",
              "0  209524  51006740         1    1593002228      1.00   189092190\n",
              "1  176321  42760698         1    1957688344      0.75  1386413202\n",
              "2   17125  56844954         1     629075831      1.50  1429623935\n",
              "3  177412  56844954         1     629075831      1.50  1429623935\n",
              "4   69839  56844954         1     629075831      1.50  1429623935"
            ],
            "text/html": [
              "\n",
              "  <div id=\"df-f97753c3-258c-40ac-9752-33f2426fdfdb\" class=\"colab-df-container\">\n",
              "    <div>\n",
              "<style scoped>\n",
              "    .dataframe tbody tr th:only-of-type {\n",
              "        vertical-align: middle;\n",
              "    }\n",
              "\n",
              "    .dataframe tbody tr th {\n",
              "        vertical-align: top;\n",
              "    }\n",
              "\n",
              "    .dataframe thead th {\n",
              "        text-align: right;\n",
              "    }\n",
              "</style>\n",
              "<table border=\"1\" class=\"dataframe\">\n",
              "  <thead>\n",
              "    <tr style=\"text-align: right;\">\n",
              "      <th></th>\n",
              "      <th>promo</th>\n",
              "      <th>category</th>\n",
              "      <th>promoqty</th>\n",
              "      <th>manufacturer</th>\n",
              "      <th>promoval</th>\n",
              "      <th>brand</th>\n",
              "    </tr>\n",
              "  </thead>\n",
              "  <tbody>\n",
              "    <tr>\n",
              "      <th>0</th>\n",
              "      <td>209524</td>\n",
              "      <td>51006740</td>\n",
              "      <td>1</td>\n",
              "      <td>1593002228</td>\n",
              "      <td>1.00</td>\n",
              "      <td>189092190</td>\n",
              "    </tr>\n",
              "    <tr>\n",
              "      <th>1</th>\n",
              "      <td>176321</td>\n",
              "      <td>42760698</td>\n",
              "      <td>1</td>\n",
              "      <td>1957688344</td>\n",
              "      <td>0.75</td>\n",
              "      <td>1386413202</td>\n",
              "    </tr>\n",
              "    <tr>\n",
              "      <th>2</th>\n",
              "      <td>17125</td>\n",
              "      <td>56844954</td>\n",
              "      <td>1</td>\n",
              "      <td>629075831</td>\n",
              "      <td>1.50</td>\n",
              "      <td>1429623935</td>\n",
              "    </tr>\n",
              "    <tr>\n",
              "      <th>3</th>\n",
              "      <td>177412</td>\n",
              "      <td>56844954</td>\n",
              "      <td>1</td>\n",
              "      <td>629075831</td>\n",
              "      <td>1.50</td>\n",
              "      <td>1429623935</td>\n",
              "    </tr>\n",
              "    <tr>\n",
              "      <th>4</th>\n",
              "      <td>69839</td>\n",
              "      <td>56844954</td>\n",
              "      <td>1</td>\n",
              "      <td>629075831</td>\n",
              "      <td>1.50</td>\n",
              "      <td>1429623935</td>\n",
              "    </tr>\n",
              "  </tbody>\n",
              "</table>\n",
              "</div>\n",
              "    <div class=\"colab-df-buttons\">\n",
              "\n",
              "  <div class=\"colab-df-container\">\n",
              "    <button class=\"colab-df-convert\" onclick=\"convertToInteractive('df-f97753c3-258c-40ac-9752-33f2426fdfdb')\"\n",
              "            title=\"Convert this dataframe to an interactive table.\"\n",
              "            style=\"display:none;\">\n",
              "\n",
              "  <svg xmlns=\"http://www.w3.org/2000/svg\" height=\"24px\" viewBox=\"0 -960 960 960\">\n",
              "    <path d=\"M120-120v-720h720v720H120Zm60-500h600v-160H180v160Zm220 220h160v-160H400v160Zm0 220h160v-160H400v160ZM180-400h160v-160H180v160Zm440 0h160v-160H620v160ZM180-180h160v-160H180v160Zm440 0h160v-160H620v160Z\"/>\n",
              "  </svg>\n",
              "    </button>\n",
              "\n",
              "  <style>\n",
              "    .colab-df-container {\n",
              "      display:flex;\n",
              "      gap: 12px;\n",
              "    }\n",
              "\n",
              "    .colab-df-convert {\n",
              "      background-color: #E8F0FE;\n",
              "      border: none;\n",
              "      border-radius: 50%;\n",
              "      cursor: pointer;\n",
              "      display: none;\n",
              "      fill: #1967D2;\n",
              "      height: 32px;\n",
              "      padding: 0 0 0 0;\n",
              "      width: 32px;\n",
              "    }\n",
              "\n",
              "    .colab-df-convert:hover {\n",
              "      background-color: #E2EBFA;\n",
              "      box-shadow: 0px 1px 2px rgba(60, 64, 67, 0.3), 0px 1px 3px 1px rgba(60, 64, 67, 0.15);\n",
              "      fill: #174EA6;\n",
              "    }\n",
              "\n",
              "    .colab-df-buttons div {\n",
              "      margin-bottom: 4px;\n",
              "    }\n",
              "\n",
              "    [theme=dark] .colab-df-convert {\n",
              "      background-color: #3B4455;\n",
              "      fill: #D2E3FC;\n",
              "    }\n",
              "\n",
              "    [theme=dark] .colab-df-convert:hover {\n",
              "      background-color: #434B5C;\n",
              "      box-shadow: 0px 1px 3px 1px rgba(0, 0, 0, 0.15);\n",
              "      filter: drop-shadow(0px 1px 2px rgba(0, 0, 0, 0.3));\n",
              "      fill: #FFFFFF;\n",
              "    }\n",
              "  </style>\n",
              "\n",
              "    <script>\n",
              "      const buttonEl =\n",
              "        document.querySelector('#df-f97753c3-258c-40ac-9752-33f2426fdfdb button.colab-df-convert');\n",
              "      buttonEl.style.display =\n",
              "        google.colab.kernel.accessAllowed ? 'block' : 'none';\n",
              "\n",
              "      async function convertToInteractive(key) {\n",
              "        const element = document.querySelector('#df-f97753c3-258c-40ac-9752-33f2426fdfdb');\n",
              "        const dataTable =\n",
              "          await google.colab.kernel.invokeFunction('convertToInteractive',\n",
              "                                                    [key], {});\n",
              "        if (!dataTable) return;\n",
              "\n",
              "        const docLinkHtml = 'Like what you see? Visit the ' +\n",
              "          '<a target=\"_blank\" href=https://colab.research.google.com/notebooks/data_table.ipynb>data table notebook</a>'\n",
              "          + ' to learn more about interactive tables.';\n",
              "        element.innerHTML = '';\n",
              "        dataTable['output_type'] = 'display_data';\n",
              "        await google.colab.output.renderOutput(dataTable, element);\n",
              "        const docLink = document.createElement('div');\n",
              "        docLink.innerHTML = docLinkHtml;\n",
              "        element.appendChild(docLink);\n",
              "      }\n",
              "    </script>\n",
              "  </div>\n",
              "\n",
              "\n",
              "<div id=\"df-f802f5b2-f279-43c2-bddc-a29adb1b1c34\">\n",
              "  <button class=\"colab-df-quickchart\" onclick=\"quickchart('df-f802f5b2-f279-43c2-bddc-a29adb1b1c34')\"\n",
              "            title=\"Suggest charts\"\n",
              "            style=\"display:none;\">\n",
              "\n",
              "<svg xmlns=\"http://www.w3.org/2000/svg\" height=\"24px\"viewBox=\"0 0 24 24\"\n",
              "     width=\"24px\">\n",
              "    <g>\n",
              "        <path d=\"M19 3H5c-1.1 0-2 .9-2 2v14c0 1.1.9 2 2 2h14c1.1 0 2-.9 2-2V5c0-1.1-.9-2-2-2zM9 17H7v-7h2v7zm4 0h-2V7h2v10zm4 0h-2v-4h2v4z\"/>\n",
              "    </g>\n",
              "</svg>\n",
              "  </button>\n",
              "\n",
              "<style>\n",
              "  .colab-df-quickchart {\n",
              "      --bg-color: #E8F0FE;\n",
              "      --fill-color: #1967D2;\n",
              "      --hover-bg-color: #E2EBFA;\n",
              "      --hover-fill-color: #174EA6;\n",
              "      --disabled-fill-color: #AAA;\n",
              "      --disabled-bg-color: #DDD;\n",
              "  }\n",
              "\n",
              "  [theme=dark] .colab-df-quickchart {\n",
              "      --bg-color: #3B4455;\n",
              "      --fill-color: #D2E3FC;\n",
              "      --hover-bg-color: #434B5C;\n",
              "      --hover-fill-color: #FFFFFF;\n",
              "      --disabled-bg-color: #3B4455;\n",
              "      --disabled-fill-color: #666;\n",
              "  }\n",
              "\n",
              "  .colab-df-quickchart {\n",
              "    background-color: var(--bg-color);\n",
              "    border: none;\n",
              "    border-radius: 50%;\n",
              "    cursor: pointer;\n",
              "    display: none;\n",
              "    fill: var(--fill-color);\n",
              "    height: 32px;\n",
              "    padding: 0;\n",
              "    width: 32px;\n",
              "  }\n",
              "\n",
              "  .colab-df-quickchart:hover {\n",
              "    background-color: var(--hover-bg-color);\n",
              "    box-shadow: 0 1px 2px rgba(60, 64, 67, 0.3), 0 1px 3px 1px rgba(60, 64, 67, 0.15);\n",
              "    fill: var(--button-hover-fill-color);\n",
              "  }\n",
              "\n",
              "  .colab-df-quickchart-complete:disabled,\n",
              "  .colab-df-quickchart-complete:disabled:hover {\n",
              "    background-color: var(--disabled-bg-color);\n",
              "    fill: var(--disabled-fill-color);\n",
              "    box-shadow: none;\n",
              "  }\n",
              "\n",
              "  .colab-df-spinner {\n",
              "    border: 2px solid var(--fill-color);\n",
              "    border-color: transparent;\n",
              "    border-bottom-color: var(--fill-color);\n",
              "    animation:\n",
              "      spin 1s steps(1) infinite;\n",
              "  }\n",
              "\n",
              "  @keyframes spin {\n",
              "    0% {\n",
              "      border-color: transparent;\n",
              "      border-bottom-color: var(--fill-color);\n",
              "      border-left-color: var(--fill-color);\n",
              "    }\n",
              "    20% {\n",
              "      border-color: transparent;\n",
              "      border-left-color: var(--fill-color);\n",
              "      border-top-color: var(--fill-color);\n",
              "    }\n",
              "    30% {\n",
              "      border-color: transparent;\n",
              "      border-left-color: var(--fill-color);\n",
              "      border-top-color: var(--fill-color);\n",
              "      border-right-color: var(--fill-color);\n",
              "    }\n",
              "    40% {\n",
              "      border-color: transparent;\n",
              "      border-right-color: var(--fill-color);\n",
              "      border-top-color: var(--fill-color);\n",
              "    }\n",
              "    60% {\n",
              "      border-color: transparent;\n",
              "      border-right-color: var(--fill-color);\n",
              "    }\n",
              "    80% {\n",
              "      border-color: transparent;\n",
              "      border-right-color: var(--fill-color);\n",
              "      border-bottom-color: var(--fill-color);\n",
              "    }\n",
              "    90% {\n",
              "      border-color: transparent;\n",
              "      border-bottom-color: var(--fill-color);\n",
              "    }\n",
              "  }\n",
              "</style>\n",
              "\n",
              "  <script>\n",
              "    async function quickchart(key) {\n",
              "      const quickchartButtonEl =\n",
              "        document.querySelector('#' + key + ' button');\n",
              "      quickchartButtonEl.disabled = true;  // To prevent multiple clicks.\n",
              "      quickchartButtonEl.classList.add('colab-df-spinner');\n",
              "      try {\n",
              "        const charts = await google.colab.kernel.invokeFunction(\n",
              "            'suggestCharts', [key], {});\n",
              "      } catch (error) {\n",
              "        console.error('Error during call to suggestCharts:', error);\n",
              "      }\n",
              "      quickchartButtonEl.classList.remove('colab-df-spinner');\n",
              "      quickchartButtonEl.classList.add('colab-df-quickchart-complete');\n",
              "    }\n",
              "    (() => {\n",
              "      let quickchartButtonEl =\n",
              "        document.querySelector('#df-f802f5b2-f279-43c2-bddc-a29adb1b1c34 button');\n",
              "      quickchartButtonEl.style.display =\n",
              "        google.colab.kernel.accessAllowed ? 'block' : 'none';\n",
              "    })();\n",
              "  </script>\n",
              "</div>\n",
              "\n",
              "    </div>\n",
              "  </div>\n"
            ],
            "application/vnd.google.colaboratory.intrinsic+json": {
              "type": "dataframe",
              "variable_name": "promos",
              "summary": "{\n  \"name\": \"promos\",\n  \"rows\": 24,\n  \"fields\": [\n    {\n      \"column\": \"promo\",\n      \"properties\": {\n        \"dtype\": \"number\",\n        \"std\": 62318,\n        \"min\": 17125,\n        \"max\": 222088,\n        \"num_unique_values\": 24,\n        \"samples\": [\n          108252,\n          108237,\n          209524\n        ],\n        \"semantic_type\": \"\",\n        \"description\": \"\"\n      }\n    },\n    {\n      \"column\": \"category\",\n      \"properties\": {\n        \"dtype\": \"number\",\n        \"std\": 20716777,\n        \"min\": 8946099,\n        \"max\": 81382162,\n        \"num_unique_values\": 13,\n        \"samples\": [\n          79950300,\n          75536470,\n          51006740\n        ],\n        \"semantic_type\": \"\",\n        \"description\": \"\"\n      }\n    },\n    {\n      \"column\": \"promoqty\",\n      \"properties\": {\n        \"dtype\": \"number\",\n        \"std\": 0,\n        \"min\": 1,\n        \"max\": 1,\n        \"num_unique_values\": 1,\n        \"samples\": [\n          1\n        ],\n        \"semantic_type\": \"\",\n        \"description\": \"\"\n      }\n    },\n    {\n      \"column\": \"manufacturer\",\n      \"properties\": {\n        \"dtype\": \"number\",\n        \"std\": 592472781,\n        \"min\": 107216507,\n        \"max\": 2037186963,\n        \"num_unique_values\": 11,\n        \"samples\": [\n          1150283635\n        ],\n        \"semantic_type\": \"\",\n        \"description\": \"\"\n      }\n    },\n    {\n      \"column\": \"promoval\",\n      \"properties\": {\n        \"dtype\": \"number\",\n        \"std\": 0.4662524041201569,\n        \"min\": 0.75,\n        \"max\": 3.0,\n        \"num_unique_values\": 6,\n        \"samples\": [\n          1.0\n        ],\n        \"semantic_type\": \"\",\n        \"description\": \"\"\n      }\n    },\n    {\n      \"column\": \"brand\",\n      \"properties\": {\n        \"dtype\": \"number\",\n        \"std\": 620033680,\n        \"min\": 86145108,\n        \"max\": 2395929821,\n        \"num_unique_values\": 12,\n        \"samples\": [\n          649187428\n        ],\n        \"semantic_type\": \"\",\n        \"description\": \"\"\n      }\n    }\n  ]\n}"
            }
          },
          "metadata": {},
          "execution_count": 49
        }
      ]
    },
    {
      "cell_type": "code",
      "metadata": {
        "id": "nSmAvmYnIaSS",
        "colab": {
          "base_uri": "https://localhost:8080/",
          "height": 206
        },
        "outputId": "93eaff58-9728-4953-ed5b-ed47c93aed90"
      },
      "source": [
        "train_history = pd.read_csv(path + '/train_history.csv.gz', parse_dates=['promodate'])\n",
        "train_history.head()"
      ],
      "execution_count": 50,
      "outputs": [
        {
          "output_type": "execute_result",
          "data": {
            "text/plain": [
              "             id    store   promo  region  promodate  active\n",
              "0  115562959531   860548  176321  243820 2013-03-25     0.0\n",
              "1  175261390705   625933   37568  191747 2013-03-15     0.0\n",
              "2  273751574633   527828  209524  165933 2013-03-23     1.0\n",
              "3  166923268906  1056730  214816    5506 2013-03-20     0.0\n",
              "4  135410903443   241369  176321  278897 2013-03-25     0.0"
            ],
            "text/html": [
              "\n",
              "  <div id=\"df-46131ac2-95ee-4222-b770-166b12d0fc39\" class=\"colab-df-container\">\n",
              "    <div>\n",
              "<style scoped>\n",
              "    .dataframe tbody tr th:only-of-type {\n",
              "        vertical-align: middle;\n",
              "    }\n",
              "\n",
              "    .dataframe tbody tr th {\n",
              "        vertical-align: top;\n",
              "    }\n",
              "\n",
              "    .dataframe thead th {\n",
              "        text-align: right;\n",
              "    }\n",
              "</style>\n",
              "<table border=\"1\" class=\"dataframe\">\n",
              "  <thead>\n",
              "    <tr style=\"text-align: right;\">\n",
              "      <th></th>\n",
              "      <th>id</th>\n",
              "      <th>store</th>\n",
              "      <th>promo</th>\n",
              "      <th>region</th>\n",
              "      <th>promodate</th>\n",
              "      <th>active</th>\n",
              "    </tr>\n",
              "  </thead>\n",
              "  <tbody>\n",
              "    <tr>\n",
              "      <th>0</th>\n",
              "      <td>115562959531</td>\n",
              "      <td>860548</td>\n",
              "      <td>176321</td>\n",
              "      <td>243820</td>\n",
              "      <td>2013-03-25</td>\n",
              "      <td>0.0</td>\n",
              "    </tr>\n",
              "    <tr>\n",
              "      <th>1</th>\n",
              "      <td>175261390705</td>\n",
              "      <td>625933</td>\n",
              "      <td>37568</td>\n",
              "      <td>191747</td>\n",
              "      <td>2013-03-15</td>\n",
              "      <td>0.0</td>\n",
              "    </tr>\n",
              "    <tr>\n",
              "      <th>2</th>\n",
              "      <td>273751574633</td>\n",
              "      <td>527828</td>\n",
              "      <td>209524</td>\n",
              "      <td>165933</td>\n",
              "      <td>2013-03-23</td>\n",
              "      <td>1.0</td>\n",
              "    </tr>\n",
              "    <tr>\n",
              "      <th>3</th>\n",
              "      <td>166923268906</td>\n",
              "      <td>1056730</td>\n",
              "      <td>214816</td>\n",
              "      <td>5506</td>\n",
              "      <td>2013-03-20</td>\n",
              "      <td>0.0</td>\n",
              "    </tr>\n",
              "    <tr>\n",
              "      <th>4</th>\n",
              "      <td>135410903443</td>\n",
              "      <td>241369</td>\n",
              "      <td>176321</td>\n",
              "      <td>278897</td>\n",
              "      <td>2013-03-25</td>\n",
              "      <td>0.0</td>\n",
              "    </tr>\n",
              "  </tbody>\n",
              "</table>\n",
              "</div>\n",
              "    <div class=\"colab-df-buttons\">\n",
              "\n",
              "  <div class=\"colab-df-container\">\n",
              "    <button class=\"colab-df-convert\" onclick=\"convertToInteractive('df-46131ac2-95ee-4222-b770-166b12d0fc39')\"\n",
              "            title=\"Convert this dataframe to an interactive table.\"\n",
              "            style=\"display:none;\">\n",
              "\n",
              "  <svg xmlns=\"http://www.w3.org/2000/svg\" height=\"24px\" viewBox=\"0 -960 960 960\">\n",
              "    <path d=\"M120-120v-720h720v720H120Zm60-500h600v-160H180v160Zm220 220h160v-160H400v160Zm0 220h160v-160H400v160ZM180-400h160v-160H180v160Zm440 0h160v-160H620v160ZM180-180h160v-160H180v160Zm440 0h160v-160H620v160Z\"/>\n",
              "  </svg>\n",
              "    </button>\n",
              "\n",
              "  <style>\n",
              "    .colab-df-container {\n",
              "      display:flex;\n",
              "      gap: 12px;\n",
              "    }\n",
              "\n",
              "    .colab-df-convert {\n",
              "      background-color: #E8F0FE;\n",
              "      border: none;\n",
              "      border-radius: 50%;\n",
              "      cursor: pointer;\n",
              "      display: none;\n",
              "      fill: #1967D2;\n",
              "      height: 32px;\n",
              "      padding: 0 0 0 0;\n",
              "      width: 32px;\n",
              "    }\n",
              "\n",
              "    .colab-df-convert:hover {\n",
              "      background-color: #E2EBFA;\n",
              "      box-shadow: 0px 1px 2px rgba(60, 64, 67, 0.3), 0px 1px 3px 1px rgba(60, 64, 67, 0.15);\n",
              "      fill: #174EA6;\n",
              "    }\n",
              "\n",
              "    .colab-df-buttons div {\n",
              "      margin-bottom: 4px;\n",
              "    }\n",
              "\n",
              "    [theme=dark] .colab-df-convert {\n",
              "      background-color: #3B4455;\n",
              "      fill: #D2E3FC;\n",
              "    }\n",
              "\n",
              "    [theme=dark] .colab-df-convert:hover {\n",
              "      background-color: #434B5C;\n",
              "      box-shadow: 0px 1px 3px 1px rgba(0, 0, 0, 0.15);\n",
              "      filter: drop-shadow(0px 1px 2px rgba(0, 0, 0, 0.3));\n",
              "      fill: #FFFFFF;\n",
              "    }\n",
              "  </style>\n",
              "\n",
              "    <script>\n",
              "      const buttonEl =\n",
              "        document.querySelector('#df-46131ac2-95ee-4222-b770-166b12d0fc39 button.colab-df-convert');\n",
              "      buttonEl.style.display =\n",
              "        google.colab.kernel.accessAllowed ? 'block' : 'none';\n",
              "\n",
              "      async function convertToInteractive(key) {\n",
              "        const element = document.querySelector('#df-46131ac2-95ee-4222-b770-166b12d0fc39');\n",
              "        const dataTable =\n",
              "          await google.colab.kernel.invokeFunction('convertToInteractive',\n",
              "                                                    [key], {});\n",
              "        if (!dataTable) return;\n",
              "\n",
              "        const docLinkHtml = 'Like what you see? Visit the ' +\n",
              "          '<a target=\"_blank\" href=https://colab.research.google.com/notebooks/data_table.ipynb>data table notebook</a>'\n",
              "          + ' to learn more about interactive tables.';\n",
              "        element.innerHTML = '';\n",
              "        dataTable['output_type'] = 'display_data';\n",
              "        await google.colab.output.renderOutput(dataTable, element);\n",
              "        const docLink = document.createElement('div');\n",
              "        docLink.innerHTML = docLinkHtml;\n",
              "        element.appendChild(docLink);\n",
              "      }\n",
              "    </script>\n",
              "  </div>\n",
              "\n",
              "\n",
              "<div id=\"df-17585c6e-4f7c-4f40-aee0-470d37393049\">\n",
              "  <button class=\"colab-df-quickchart\" onclick=\"quickchart('df-17585c6e-4f7c-4f40-aee0-470d37393049')\"\n",
              "            title=\"Suggest charts\"\n",
              "            style=\"display:none;\">\n",
              "\n",
              "<svg xmlns=\"http://www.w3.org/2000/svg\" height=\"24px\"viewBox=\"0 0 24 24\"\n",
              "     width=\"24px\">\n",
              "    <g>\n",
              "        <path d=\"M19 3H5c-1.1 0-2 .9-2 2v14c0 1.1.9 2 2 2h14c1.1 0 2-.9 2-2V5c0-1.1-.9-2-2-2zM9 17H7v-7h2v7zm4 0h-2V7h2v10zm4 0h-2v-4h2v4z\"/>\n",
              "    </g>\n",
              "</svg>\n",
              "  </button>\n",
              "\n",
              "<style>\n",
              "  .colab-df-quickchart {\n",
              "      --bg-color: #E8F0FE;\n",
              "      --fill-color: #1967D2;\n",
              "      --hover-bg-color: #E2EBFA;\n",
              "      --hover-fill-color: #174EA6;\n",
              "      --disabled-fill-color: #AAA;\n",
              "      --disabled-bg-color: #DDD;\n",
              "  }\n",
              "\n",
              "  [theme=dark] .colab-df-quickchart {\n",
              "      --bg-color: #3B4455;\n",
              "      --fill-color: #D2E3FC;\n",
              "      --hover-bg-color: #434B5C;\n",
              "      --hover-fill-color: #FFFFFF;\n",
              "      --disabled-bg-color: #3B4455;\n",
              "      --disabled-fill-color: #666;\n",
              "  }\n",
              "\n",
              "  .colab-df-quickchart {\n",
              "    background-color: var(--bg-color);\n",
              "    border: none;\n",
              "    border-radius: 50%;\n",
              "    cursor: pointer;\n",
              "    display: none;\n",
              "    fill: var(--fill-color);\n",
              "    height: 32px;\n",
              "    padding: 0;\n",
              "    width: 32px;\n",
              "  }\n",
              "\n",
              "  .colab-df-quickchart:hover {\n",
              "    background-color: var(--hover-bg-color);\n",
              "    box-shadow: 0 1px 2px rgba(60, 64, 67, 0.3), 0 1px 3px 1px rgba(60, 64, 67, 0.15);\n",
              "    fill: var(--button-hover-fill-color);\n",
              "  }\n",
              "\n",
              "  .colab-df-quickchart-complete:disabled,\n",
              "  .colab-df-quickchart-complete:disabled:hover {\n",
              "    background-color: var(--disabled-bg-color);\n",
              "    fill: var(--disabled-fill-color);\n",
              "    box-shadow: none;\n",
              "  }\n",
              "\n",
              "  .colab-df-spinner {\n",
              "    border: 2px solid var(--fill-color);\n",
              "    border-color: transparent;\n",
              "    border-bottom-color: var(--fill-color);\n",
              "    animation:\n",
              "      spin 1s steps(1) infinite;\n",
              "  }\n",
              "\n",
              "  @keyframes spin {\n",
              "    0% {\n",
              "      border-color: transparent;\n",
              "      border-bottom-color: var(--fill-color);\n",
              "      border-left-color: var(--fill-color);\n",
              "    }\n",
              "    20% {\n",
              "      border-color: transparent;\n",
              "      border-left-color: var(--fill-color);\n",
              "      border-top-color: var(--fill-color);\n",
              "    }\n",
              "    30% {\n",
              "      border-color: transparent;\n",
              "      border-left-color: var(--fill-color);\n",
              "      border-top-color: var(--fill-color);\n",
              "      border-right-color: var(--fill-color);\n",
              "    }\n",
              "    40% {\n",
              "      border-color: transparent;\n",
              "      border-right-color: var(--fill-color);\n",
              "      border-top-color: var(--fill-color);\n",
              "    }\n",
              "    60% {\n",
              "      border-color: transparent;\n",
              "      border-right-color: var(--fill-color);\n",
              "    }\n",
              "    80% {\n",
              "      border-color: transparent;\n",
              "      border-right-color: var(--fill-color);\n",
              "      border-bottom-color: var(--fill-color);\n",
              "    }\n",
              "    90% {\n",
              "      border-color: transparent;\n",
              "      border-bottom-color: var(--fill-color);\n",
              "    }\n",
              "  }\n",
              "</style>\n",
              "\n",
              "  <script>\n",
              "    async function quickchart(key) {\n",
              "      const quickchartButtonEl =\n",
              "        document.querySelector('#' + key + ' button');\n",
              "      quickchartButtonEl.disabled = true;  // To prevent multiple clicks.\n",
              "      quickchartButtonEl.classList.add('colab-df-spinner');\n",
              "      try {\n",
              "        const charts = await google.colab.kernel.invokeFunction(\n",
              "            'suggestCharts', [key], {});\n",
              "      } catch (error) {\n",
              "        console.error('Error during call to suggestCharts:', error);\n",
              "      }\n",
              "      quickchartButtonEl.classList.remove('colab-df-spinner');\n",
              "      quickchartButtonEl.classList.add('colab-df-quickchart-complete');\n",
              "    }\n",
              "    (() => {\n",
              "      let quickchartButtonEl =\n",
              "        document.querySelector('#df-17585c6e-4f7c-4f40-aee0-470d37393049 button');\n",
              "      quickchartButtonEl.style.display =\n",
              "        google.colab.kernel.accessAllowed ? 'block' : 'none';\n",
              "    })();\n",
              "  </script>\n",
              "</div>\n",
              "\n",
              "    </div>\n",
              "  </div>\n"
            ],
            "application/vnd.google.colaboratory.intrinsic+json": {
              "type": "dataframe",
              "variable_name": "train_history",
              "summary": "{\n  \"name\": \"train_history\",\n  \"rows\": 20000,\n  \"fields\": [\n    {\n      \"column\": \"id\",\n      \"properties\": {\n        \"dtype\": \"number\",\n        \"std\": 86318862308,\n        \"min\": 32159355,\n        \"max\": 299868458280,\n        \"num_unique_values\": 20000,\n        \"samples\": [\n          282724187532,\n          101195087412,\n          60996316339\n        ],\n        \"semantic_type\": \"\",\n        \"description\": \"\"\n      }\n    },\n    {\n      \"column\": \"store\",\n      \"properties\": {\n        \"dtype\": \"number\",\n        \"std\": 277311,\n        \"min\": 7845,\n        \"max\": 1155220,\n        \"num_unique_values\": 105,\n        \"samples\": [\n          367489,\n          1053332,\n          616660\n        ],\n        \"semantic_type\": \"\",\n        \"description\": \"\"\n      }\n    },\n    {\n      \"column\": \"promo\",\n      \"properties\": {\n        \"dtype\": \"number\",\n        \"std\": 56222,\n        \"min\": 17125,\n        \"max\": 214816,\n        \"num_unique_values\": 15,\n        \"samples\": [\n          177412,\n          65353,\n          176321\n        ],\n        \"semantic_type\": \"\",\n        \"description\": \"\"\n      }\n    },\n    {\n      \"column\": \"region\",\n      \"properties\": {\n        \"dtype\": \"number\",\n        \"std\": 85957,\n        \"min\": 5506,\n        \"max\": 334402,\n        \"num_unique_values\": 34,\n        \"samples\": [\n          132336,\n          62416,\n          272856\n        ],\n        \"semantic_type\": \"\",\n        \"description\": \"\"\n      }\n    },\n    {\n      \"column\": \"promodate\",\n      \"properties\": {\n        \"dtype\": \"date\",\n        \"min\": \"2013-03-01 00:00:00\",\n        \"max\": \"2013-03-31 00:00:00\",\n        \"num_unique_values\": 26,\n        \"samples\": [\n          \"2013-03-01 00:00:00\",\n          \"2013-03-06 00:00:00\",\n          \"2013-03-25 00:00:00\"\n        ],\n        \"semantic_type\": \"\",\n        \"description\": \"\"\n      }\n    },\n    {\n      \"column\": \"active\",\n      \"properties\": {\n        \"dtype\": \"number\",\n        \"std\": 0.40187289668657,\n        \"min\": 0.0,\n        \"max\": 1.0,\n        \"num_unique_values\": 2,\n        \"samples\": [\n          1.0,\n          0.0\n        ],\n        \"semantic_type\": \"\",\n        \"description\": \"\"\n      }\n    }\n  ]\n}"
            }
          },
          "metadata": {},
          "execution_count": 50
        }
      ]
    },
    {
      "cell_type": "code",
      "metadata": {
        "id": "__RrtX-SIaST",
        "colab": {
          "base_uri": "https://localhost:8080/",
          "height": 206
        },
        "outputId": "bcdacd81-acfe-4379-fde1-04f7985e45c7"
      },
      "source": [
        "test_history = pd.read_csv(path + '/test_history.csv.gz', parse_dates=['promodate'])\n",
        "test_history.head()"
      ],
      "execution_count": 51,
      "outputs": [
        {
          "output_type": "execute_result",
          "data": {
            "text/plain": [
              "             id   store   promo  region  promodate  active\n",
              "0  250462324156  457755   96852  191747 2013-04-22     NaN\n",
              "1   61214568335  740794   54956  203586 2013-04-23     NaN\n",
              "2  274776763999  394092   95011   42773 2013-04-02     NaN\n",
              "3   91546215019  876095  108237  323706 2013-04-24     NaN\n",
              "4  220718580189  625933  222088  191747 2013-04-18     NaN"
            ],
            "text/html": [
              "\n",
              "  <div id=\"df-309d5343-2241-42b0-b1cf-f9e455021152\" class=\"colab-df-container\">\n",
              "    <div>\n",
              "<style scoped>\n",
              "    .dataframe tbody tr th:only-of-type {\n",
              "        vertical-align: middle;\n",
              "    }\n",
              "\n",
              "    .dataframe tbody tr th {\n",
              "        vertical-align: top;\n",
              "    }\n",
              "\n",
              "    .dataframe thead th {\n",
              "        text-align: right;\n",
              "    }\n",
              "</style>\n",
              "<table border=\"1\" class=\"dataframe\">\n",
              "  <thead>\n",
              "    <tr style=\"text-align: right;\">\n",
              "      <th></th>\n",
              "      <th>id</th>\n",
              "      <th>store</th>\n",
              "      <th>promo</th>\n",
              "      <th>region</th>\n",
              "      <th>promodate</th>\n",
              "      <th>active</th>\n",
              "    </tr>\n",
              "  </thead>\n",
              "  <tbody>\n",
              "    <tr>\n",
              "      <th>0</th>\n",
              "      <td>250462324156</td>\n",
              "      <td>457755</td>\n",
              "      <td>96852</td>\n",
              "      <td>191747</td>\n",
              "      <td>2013-04-22</td>\n",
              "      <td>NaN</td>\n",
              "    </tr>\n",
              "    <tr>\n",
              "      <th>1</th>\n",
              "      <td>61214568335</td>\n",
              "      <td>740794</td>\n",
              "      <td>54956</td>\n",
              "      <td>203586</td>\n",
              "      <td>2013-04-23</td>\n",
              "      <td>NaN</td>\n",
              "    </tr>\n",
              "    <tr>\n",
              "      <th>2</th>\n",
              "      <td>274776763999</td>\n",
              "      <td>394092</td>\n",
              "      <td>95011</td>\n",
              "      <td>42773</td>\n",
              "      <td>2013-04-02</td>\n",
              "      <td>NaN</td>\n",
              "    </tr>\n",
              "    <tr>\n",
              "      <th>3</th>\n",
              "      <td>91546215019</td>\n",
              "      <td>876095</td>\n",
              "      <td>108237</td>\n",
              "      <td>323706</td>\n",
              "      <td>2013-04-24</td>\n",
              "      <td>NaN</td>\n",
              "    </tr>\n",
              "    <tr>\n",
              "      <th>4</th>\n",
              "      <td>220718580189</td>\n",
              "      <td>625933</td>\n",
              "      <td>222088</td>\n",
              "      <td>191747</td>\n",
              "      <td>2013-04-18</td>\n",
              "      <td>NaN</td>\n",
              "    </tr>\n",
              "  </tbody>\n",
              "</table>\n",
              "</div>\n",
              "    <div class=\"colab-df-buttons\">\n",
              "\n",
              "  <div class=\"colab-df-container\">\n",
              "    <button class=\"colab-df-convert\" onclick=\"convertToInteractive('df-309d5343-2241-42b0-b1cf-f9e455021152')\"\n",
              "            title=\"Convert this dataframe to an interactive table.\"\n",
              "            style=\"display:none;\">\n",
              "\n",
              "  <svg xmlns=\"http://www.w3.org/2000/svg\" height=\"24px\" viewBox=\"0 -960 960 960\">\n",
              "    <path d=\"M120-120v-720h720v720H120Zm60-500h600v-160H180v160Zm220 220h160v-160H400v160Zm0 220h160v-160H400v160ZM180-400h160v-160H180v160Zm440 0h160v-160H620v160ZM180-180h160v-160H180v160Zm440 0h160v-160H620v160Z\"/>\n",
              "  </svg>\n",
              "    </button>\n",
              "\n",
              "  <style>\n",
              "    .colab-df-container {\n",
              "      display:flex;\n",
              "      gap: 12px;\n",
              "    }\n",
              "\n",
              "    .colab-df-convert {\n",
              "      background-color: #E8F0FE;\n",
              "      border: none;\n",
              "      border-radius: 50%;\n",
              "      cursor: pointer;\n",
              "      display: none;\n",
              "      fill: #1967D2;\n",
              "      height: 32px;\n",
              "      padding: 0 0 0 0;\n",
              "      width: 32px;\n",
              "    }\n",
              "\n",
              "    .colab-df-convert:hover {\n",
              "      background-color: #E2EBFA;\n",
              "      box-shadow: 0px 1px 2px rgba(60, 64, 67, 0.3), 0px 1px 3px 1px rgba(60, 64, 67, 0.15);\n",
              "      fill: #174EA6;\n",
              "    }\n",
              "\n",
              "    .colab-df-buttons div {\n",
              "      margin-bottom: 4px;\n",
              "    }\n",
              "\n",
              "    [theme=dark] .colab-df-convert {\n",
              "      background-color: #3B4455;\n",
              "      fill: #D2E3FC;\n",
              "    }\n",
              "\n",
              "    [theme=dark] .colab-df-convert:hover {\n",
              "      background-color: #434B5C;\n",
              "      box-shadow: 0px 1px 3px 1px rgba(0, 0, 0, 0.15);\n",
              "      filter: drop-shadow(0px 1px 2px rgba(0, 0, 0, 0.3));\n",
              "      fill: #FFFFFF;\n",
              "    }\n",
              "  </style>\n",
              "\n",
              "    <script>\n",
              "      const buttonEl =\n",
              "        document.querySelector('#df-309d5343-2241-42b0-b1cf-f9e455021152 button.colab-df-convert');\n",
              "      buttonEl.style.display =\n",
              "        google.colab.kernel.accessAllowed ? 'block' : 'none';\n",
              "\n",
              "      async function convertToInteractive(key) {\n",
              "        const element = document.querySelector('#df-309d5343-2241-42b0-b1cf-f9e455021152');\n",
              "        const dataTable =\n",
              "          await google.colab.kernel.invokeFunction('convertToInteractive',\n",
              "                                                    [key], {});\n",
              "        if (!dataTable) return;\n",
              "\n",
              "        const docLinkHtml = 'Like what you see? Visit the ' +\n",
              "          '<a target=\"_blank\" href=https://colab.research.google.com/notebooks/data_table.ipynb>data table notebook</a>'\n",
              "          + ' to learn more about interactive tables.';\n",
              "        element.innerHTML = '';\n",
              "        dataTable['output_type'] = 'display_data';\n",
              "        await google.colab.output.renderOutput(dataTable, element);\n",
              "        const docLink = document.createElement('div');\n",
              "        docLink.innerHTML = docLinkHtml;\n",
              "        element.appendChild(docLink);\n",
              "      }\n",
              "    </script>\n",
              "  </div>\n",
              "\n",
              "\n",
              "<div id=\"df-176f52ec-d22d-4fc9-9afa-82331f558222\">\n",
              "  <button class=\"colab-df-quickchart\" onclick=\"quickchart('df-176f52ec-d22d-4fc9-9afa-82331f558222')\"\n",
              "            title=\"Suggest charts\"\n",
              "            style=\"display:none;\">\n",
              "\n",
              "<svg xmlns=\"http://www.w3.org/2000/svg\" height=\"24px\"viewBox=\"0 0 24 24\"\n",
              "     width=\"24px\">\n",
              "    <g>\n",
              "        <path d=\"M19 3H5c-1.1 0-2 .9-2 2v14c0 1.1.9 2 2 2h14c1.1 0 2-.9 2-2V5c0-1.1-.9-2-2-2zM9 17H7v-7h2v7zm4 0h-2V7h2v10zm4 0h-2v-4h2v4z\"/>\n",
              "    </g>\n",
              "</svg>\n",
              "  </button>\n",
              "\n",
              "<style>\n",
              "  .colab-df-quickchart {\n",
              "      --bg-color: #E8F0FE;\n",
              "      --fill-color: #1967D2;\n",
              "      --hover-bg-color: #E2EBFA;\n",
              "      --hover-fill-color: #174EA6;\n",
              "      --disabled-fill-color: #AAA;\n",
              "      --disabled-bg-color: #DDD;\n",
              "  }\n",
              "\n",
              "  [theme=dark] .colab-df-quickchart {\n",
              "      --bg-color: #3B4455;\n",
              "      --fill-color: #D2E3FC;\n",
              "      --hover-bg-color: #434B5C;\n",
              "      --hover-fill-color: #FFFFFF;\n",
              "      --disabled-bg-color: #3B4455;\n",
              "      --disabled-fill-color: #666;\n",
              "  }\n",
              "\n",
              "  .colab-df-quickchart {\n",
              "    background-color: var(--bg-color);\n",
              "    border: none;\n",
              "    border-radius: 50%;\n",
              "    cursor: pointer;\n",
              "    display: none;\n",
              "    fill: var(--fill-color);\n",
              "    height: 32px;\n",
              "    padding: 0;\n",
              "    width: 32px;\n",
              "  }\n",
              "\n",
              "  .colab-df-quickchart:hover {\n",
              "    background-color: var(--hover-bg-color);\n",
              "    box-shadow: 0 1px 2px rgba(60, 64, 67, 0.3), 0 1px 3px 1px rgba(60, 64, 67, 0.15);\n",
              "    fill: var(--button-hover-fill-color);\n",
              "  }\n",
              "\n",
              "  .colab-df-quickchart-complete:disabled,\n",
              "  .colab-df-quickchart-complete:disabled:hover {\n",
              "    background-color: var(--disabled-bg-color);\n",
              "    fill: var(--disabled-fill-color);\n",
              "    box-shadow: none;\n",
              "  }\n",
              "\n",
              "  .colab-df-spinner {\n",
              "    border: 2px solid var(--fill-color);\n",
              "    border-color: transparent;\n",
              "    border-bottom-color: var(--fill-color);\n",
              "    animation:\n",
              "      spin 1s steps(1) infinite;\n",
              "  }\n",
              "\n",
              "  @keyframes spin {\n",
              "    0% {\n",
              "      border-color: transparent;\n",
              "      border-bottom-color: var(--fill-color);\n",
              "      border-left-color: var(--fill-color);\n",
              "    }\n",
              "    20% {\n",
              "      border-color: transparent;\n",
              "      border-left-color: var(--fill-color);\n",
              "      border-top-color: var(--fill-color);\n",
              "    }\n",
              "    30% {\n",
              "      border-color: transparent;\n",
              "      border-left-color: var(--fill-color);\n",
              "      border-top-color: var(--fill-color);\n",
              "      border-right-color: var(--fill-color);\n",
              "    }\n",
              "    40% {\n",
              "      border-color: transparent;\n",
              "      border-right-color: var(--fill-color);\n",
              "      border-top-color: var(--fill-color);\n",
              "    }\n",
              "    60% {\n",
              "      border-color: transparent;\n",
              "      border-right-color: var(--fill-color);\n",
              "    }\n",
              "    80% {\n",
              "      border-color: transparent;\n",
              "      border-right-color: var(--fill-color);\n",
              "      border-bottom-color: var(--fill-color);\n",
              "    }\n",
              "    90% {\n",
              "      border-color: transparent;\n",
              "      border-bottom-color: var(--fill-color);\n",
              "    }\n",
              "  }\n",
              "</style>\n",
              "\n",
              "  <script>\n",
              "    async function quickchart(key) {\n",
              "      const quickchartButtonEl =\n",
              "        document.querySelector('#' + key + ' button');\n",
              "      quickchartButtonEl.disabled = true;  // To prevent multiple clicks.\n",
              "      quickchartButtonEl.classList.add('colab-df-spinner');\n",
              "      try {\n",
              "        const charts = await google.colab.kernel.invokeFunction(\n",
              "            'suggestCharts', [key], {});\n",
              "      } catch (error) {\n",
              "        console.error('Error during call to suggestCharts:', error);\n",
              "      }\n",
              "      quickchartButtonEl.classList.remove('colab-df-spinner');\n",
              "      quickchartButtonEl.classList.add('colab-df-quickchart-complete');\n",
              "    }\n",
              "    (() => {\n",
              "      let quickchartButtonEl =\n",
              "        document.querySelector('#df-176f52ec-d22d-4fc9-9afa-82331f558222 button');\n",
              "      quickchartButtonEl.style.display =\n",
              "        google.colab.kernel.accessAllowed ? 'block' : 'none';\n",
              "    })();\n",
              "  </script>\n",
              "</div>\n",
              "\n",
              "    </div>\n",
              "  </div>\n"
            ],
            "application/vnd.google.colaboratory.intrinsic+json": {
              "type": "dataframe",
              "variable_name": "test_history",
              "summary": "{\n  \"name\": \"test_history\",\n  \"rows\": 10000,\n  \"fields\": [\n    {\n      \"column\": \"id\",\n      \"properties\": {\n        \"dtype\": \"number\",\n        \"std\": 86612670919,\n        \"min\": 58631253,\n        \"max\": 299863577990,\n        \"num_unique_values\": 10000,\n        \"samples\": [\n          226335763911,\n          123448819550,\n          65534273228\n        ],\n        \"semantic_type\": \"\",\n        \"description\": \"\"\n      }\n    },\n    {\n      \"column\": \"store\",\n      \"properties\": {\n        \"dtype\": \"number\",\n        \"std\": 265790,\n        \"min\": 7845,\n        \"max\": 1155220,\n        \"num_unique_values\": 107,\n        \"samples\": [\n          399354,\n          271394,\n          625933\n        ],\n        \"semantic_type\": \"\",\n        \"description\": \"\"\n      }\n    },\n    {\n      \"column\": \"promo\",\n      \"properties\": {\n        \"dtype\": \"number\",\n        \"std\": 44021,\n        \"min\": 32358,\n        \"max\": 222088,\n        \"num_unique_values\": 17,\n        \"samples\": [\n          96852,\n          54956,\n          96801\n        ],\n        \"semantic_type\": \"\",\n        \"description\": \"\"\n      }\n    },\n    {\n      \"column\": \"region\",\n      \"properties\": {\n        \"dtype\": \"number\",\n        \"std\": 85304,\n        \"min\": 5506,\n        \"max\": 334402,\n        \"num_unique_values\": 34,\n        \"samples\": [\n          325318,\n          25613,\n          272856\n        ],\n        \"semantic_type\": \"\",\n        \"description\": \"\"\n      }\n    },\n    {\n      \"column\": \"promodate\",\n      \"properties\": {\n        \"dtype\": \"date\",\n        \"min\": \"2013-04-01 00:00:00\",\n        \"max\": \"2013-04-30 00:00:00\",\n        \"num_unique_values\": 30,\n        \"samples\": [\n          \"2013-04-12 00:00:00\",\n          \"2013-04-01 00:00:00\",\n          \"2013-04-19 00:00:00\"\n        ],\n        \"semantic_type\": \"\",\n        \"description\": \"\"\n      }\n    },\n    {\n      \"column\": \"active\",\n      \"properties\": {\n        \"dtype\": \"number\",\n        \"std\": null,\n        \"min\": null,\n        \"max\": null,\n        \"num_unique_values\": 0,\n        \"samples\": [],\n        \"semantic_type\": \"\",\n        \"description\": \"\"\n      }\n    }\n  ]\n}"
            }
          },
          "metadata": {},
          "execution_count": 51
        }
      ]
    },
    {
      "cell_type": "code",
      "metadata": {
        "id": "l_QK95DxIaSU"
      },
      "source": [
        "# load productsize and amt columns as float32 to reduce memory footprint\n",
        "transactions = pd.read_csv(path + '/transactions.csv.gz',\n",
        "                           parse_dates=['date'],\n",
        "                           dtype={'productsize': 'float32',\n",
        "                                  'amt': 'float32'})\n",
        "transactions.head()"
      ],
      "execution_count": null,
      "outputs": []
    },
    {
      "cell_type": "code",
      "source": [
        "def check_existence(source_df, target_df, column_name):\n",
        "    \"\"\"\n",
        "    Return a list of values from the source_df[column_name] that do not exist in target_df[column_name].\n",
        "    \"\"\"\n",
        "    # Get unique values from both DataFrames\n",
        "    source_unique_values = source_df[column_name].unique()\n",
        "    target_unique_values = target_df[column_name].unique()\n",
        "\n",
        "    # Check which source values are not in target\n",
        "    not_in_target = ~np.isin(source_unique_values, target_unique_values)\n",
        "\n",
        "    # Filter values that do not exist in target\n",
        "    values_not_in_target = source_unique_values[not_in_target]\n",
        "\n",
        "    return values_not_in_target\n",
        "\n",
        "# Using the function to find stores from 'train_history', 'test_history' that are not in 'transactions'\n",
        "stores_not_in_transactions_test = check_existence(test_history, transactions, 'store')\n",
        "stores_not_in_transactions_train = check_existence(train_history, transactions, 'store')\n",
        "\n",
        "# Display the result\n",
        "print(f\"Stores in test_history that are not in transactions: {stores_not_in_transactions_test}\")\n",
        "print(f\"Stores in train_history that are not in transactions: {stores_not_in_transactions_train}\")"
      ],
      "metadata": {
        "id": "sKxhfreEEhfS"
      },
      "execution_count": null,
      "outputs": []
    },
    {
      "cell_type": "code",
      "source": [
        "# Using the function to find stores from 'test_history' that are not in 'transactions'\n",
        "id_not_in_transactions_test = check_existence(test_history, transactions, 'id')\n",
        "id_not_in_transactions_train = check_existence(train_history, transactions, 'id')\n",
        "# Display the result\n",
        "print(f\"Customers in test_history that are not in transactions: {id_not_in_transactions_test}\")\n",
        "print(f\"Customers in train_history that are not in transactions: {id_not_in_transactions_train}\")"
      ],
      "metadata": {
        "id": "e3OtGKWaBoVF"
      },
      "execution_count": null,
      "outputs": []
    },
    {
      "cell_type": "code",
      "source": [
        "# Using the function to find stores from 'test_history' that are not in 'transactions'\n",
        "region_not_in_train_test = check_existence(test_history, train_history, 'region')\n",
        "# Display the result\n",
        "print(f\"region in test_history that are not in train_history: {region_not_in_train_test}\")"
      ],
      "metadata": {
        "id": "AEmKPYCbIXv6"
      },
      "execution_count": null,
      "outputs": []
    },
    {
      "cell_type": "markdown",
      "source": [
        "# EDA"
      ],
      "metadata": {
        "id": "f74KhPCrl3rm"
      }
    },
    {
      "cell_type": "markdown",
      "source": [
        "### transaction"
      ],
      "metadata": {
        "id": "052B_hf3sYBZ"
      }
    },
    {
      "cell_type": "code",
      "source": [
        "# Step 1: Group by customer and count the number of unique stores visited\n",
        "customer_unique_stores = transactions.groupby('id')['store'].nunique().reset_index(name='unique_store_count')\n",
        "\n",
        "# Step 2: Filter customers who visited multiple stores\n",
        "customers_visiting_multiple_stores = customer_unique_stores[customer_unique_stores['unique_store_count'] > 1]\n",
        "\n",
        "# Display customers who visited multiple stores\n",
        "print(customers_visiting_multiple_stores)"
      ],
      "metadata": {
        "id": "P5Dn8Nw7eiLy"
      },
      "execution_count": null,
      "outputs": []
    },
    {
      "cell_type": "code",
      "source": [
        "# Plot boxplot of 'amt' column\n",
        "plt.figure(figsize=(10, 6))\n",
        "transactions.boxplot(column='amt', vert=False, patch_artist=True, boxprops=dict(facecolor='skyblue'))\n",
        "plt.xlabel('Amount')\n",
        "plt.title('Boxplot of Transaction Amounts')\n",
        "plt.show()"
      ],
      "metadata": {
        "id": "DoTu-S2Yb6yG"
      },
      "execution_count": null,
      "outputs": []
    },
    {
      "cell_type": "code",
      "source": [
        "# Check for negative amounts\n",
        "negative_amounts = transactions[transactions['amt'] < 0]\n",
        "\n",
        "# Display any rows with negative amounts\n",
        "if not negative_amounts.empty:\n",
        "    print(\"There are negative amounts in the 'amt' column:\")\n",
        "    # print(negative_amounts)\n",
        "else:\n",
        "    print(\"There are no negative amounts in the 'amt' column.\")"
      ],
      "metadata": {
        "id": "aTYAtcGadh-5"
      },
      "execution_count": null,
      "outputs": []
    },
    {
      "cell_type": "code",
      "source": [
        "# Count the number of transactions per store\n",
        "store_counts = transactions['store'].value_counts().head(15)\n",
        "\n",
        "# Plotting\n",
        "plt.figure(figsize=(10, 6))\n",
        "store_counts.plot(kind='bar')\n",
        "plt.title('Distribution of Transactions by Store')\n",
        "plt.xlabel('Store ID')\n",
        "plt.ylabel('Number of Transactions')\n",
        "plt.show()"
      ],
      "metadata": {
        "id": "b9GGGi9am-Xw"
      },
      "execution_count": null,
      "outputs": []
    },
    {
      "cell_type": "code",
      "source": [
        "# Converting 'date' to datetime type if not already\n",
        "transactions['date'] = pd.to_datetime(transactions['date'])\n",
        "\n",
        "# Summing amount over each date\n",
        "time_series = transactions.groupby('date')['amt'].sum()\n",
        "\n",
        "# Plotting\n",
        "plt.figure(figsize=(10, 6))\n",
        "time_series.plot()\n",
        "plt.title('Sales Amount Over Time')\n",
        "plt.xlabel('Date')\n",
        "plt.ylabel('Total Sales Amount')\n",
        "plt.show()"
      ],
      "metadata": {
        "id": "iJzOCjWmpesd"
      },
      "execution_count": null,
      "outputs": []
    },
    {
      "cell_type": "code",
      "source": [
        "# Extracting the weekday from the date (Monday=0, Sunday=6)\n",
        "transactions['weekday'] = transactions['date'].dt.weekday\n",
        "\n",
        "# Mapping weekday numbers to names for better visualization\n",
        "weekday_names = {0: 'Monday', 1: 'Tuesday', 2: 'Wednesday', 3: 'Thursday', 4: 'Friday', 5: 'Saturday', 6: 'Sunday'}\n",
        "transactions['weekday_name'] = transactions['weekday'].map(weekday_names)\n",
        "\n",
        "# Summing amount over each weekday\n",
        "weekday_sales = transactions.groupby('weekday_name')['amt'].sum().sort_values(ascending=False)\n",
        "\n",
        "# Plotting\n",
        "plt.figure(figsize=(10, 6))\n",
        "weekday_sales.plot(kind='bar')\n",
        "plt.title('Sales Amount by Weekday')\n",
        "plt.xlabel('Weekday')\n",
        "plt.ylabel('Total Sales Amount')\n",
        "plt.xticks(rotation=45)  # Rotate labels for better readability\n",
        "plt.show()"
      ],
      "metadata": {
        "id": "KabizFnHqv0P"
      },
      "execution_count": null,
      "outputs": []
    },
    {
      "cell_type": "code",
      "source": [
        "# Extracting the month from the date\n",
        "transactions['month'] = transactions['date'].dt.month\n",
        "\n",
        "# Mapping month numbers to names for better visualization\n",
        "month_names = {\n",
        "    1: 'January', 2: 'February', 3: 'March', 4: 'April',\n",
        "    5: 'May', 6: 'June', 7: 'July', 8: 'August',\n",
        "    9: 'September', 10: 'October', 11: 'November', 12: 'December'\n",
        "}\n",
        "transactions['month_name'] = transactions['month'].map(month_names)\n",
        "\n",
        "# Summing amount over each month\n",
        "monthly_sales = transactions.groupby('month_name')['amt'].sum().sort_values(ascending=False)\n",
        "\n",
        "# Plotting\n",
        "plt.figure(figsize=(12, 7))\n",
        "monthly_sales.plot(kind='bar')\n",
        "plt.title('Sales Amount by Month')\n",
        "plt.xlabel('Month')\n",
        "plt.ylabel('Total Sales Amount')\n",
        "plt.xticks(rotation=45)  # Rotate labels for better readability\n",
        "plt.show()"
      ],
      "metadata": {
        "id": "MZkLfiEuq187"
      },
      "execution_count": null,
      "outputs": []
    },
    {
      "cell_type": "code",
      "source": [
        "print(\"there are 116 unique stores\")\n",
        "# Group by 'store' and count unique combinations of 'category', 'manufacturer', and 'brand' for each store\n",
        "unique_products_per_store = transactions.groupby('store').apply(lambda df: df.drop_duplicates(subset=['category', 'manufacturer', 'brand']).shape[0])\n",
        "\n",
        "# Display the result\n",
        "unique_products_per_store"
      ],
      "metadata": {
        "id": "CS-ArxN_D5WA"
      },
      "execution_count": null,
      "outputs": []
    },
    {
      "cell_type": "markdown",
      "source": [
        "### promos"
      ],
      "metadata": {
        "id": "h-di_xMjsdOu"
      }
    },
    {
      "cell_type": "code",
      "source": [
        "# # Sum of promo values by category\n",
        "# category_promo_values = promos.groupby('category')['promoval'].sum()\n",
        "\n",
        "# # Plotting\n",
        "# plt.figure(figsize=(10, 6))\n",
        "# category_promo_values.plot(kind='bar')\n",
        "# plt.title('Total Promotion Value by Category')\n",
        "# plt.xlabel('Category')\n",
        "# plt.ylabel('Total Promotional Value')\n",
        "# plt.show()"
      ],
      "metadata": {
        "id": "s3ccF2j0rqs6"
      },
      "execution_count": null,
      "outputs": []
    },
    {
      "cell_type": "code",
      "source": [
        "# # Count the number of promotions by manufacturer\n",
        "# manufacturer_promos = promos['manufacturer'].value_counts()\n",
        "\n",
        "# # Plotting\n",
        "# plt.figure(figsize=(10, 6))\n",
        "# manufacturer_promos.head(10).plot(kind='bar')  # Showing top 10 only for brevity\n",
        "# plt.title('Count of Promotions by Manufacturer (Top 10)')\n",
        "# plt.xlabel('Manufacturer')\n",
        "# plt.ylabel('Number of Promotions')\n",
        "# plt.show()"
      ],
      "metadata": {
        "id": "r-_3SdTErxfp"
      },
      "execution_count": null,
      "outputs": []
    },
    {
      "cell_type": "code",
      "source": [
        "# # Average promotion value by brand\n",
        "# brand_promo_average = promos.groupby('brand')['promoval'].mean()\n",
        "\n",
        "# # Plotting\n",
        "# plt.figure(figsize=(10, 6))\n",
        "# brand_promo_average.sort_values(ascending=False).head(10).plot(kind='bar')  # Top 10 brands by average promo value\n",
        "# plt.title('Average Promotion Value by Brand (Top 10)')\n",
        "# plt.xlabel('Brand')\n",
        "# plt.ylabel('Average Promotional Value')\n",
        "# plt.show()"
      ],
      "metadata": {
        "id": "H1MZrJtXr4JS"
      },
      "execution_count": null,
      "outputs": []
    },
    {
      "cell_type": "markdown",
      "metadata": {
        "id": "W6OJV3ONIaSU"
      },
      "source": [
        "# Extract Features"
      ]
    },
    {
      "cell_type": "markdown",
      "metadata": {
        "id": "kqkWrtBSIaSV"
      },
      "source": [
        "## Compute RFM Features"
      ]
    },
    {
      "cell_type": "code",
      "metadata": {
        "id": "ONT8BJeGIaSV"
      },
      "source": [
        "max_date = transactions.date.max()\n",
        "transactions['last_purchase'] = (max_date - transactions['date']) / np.timedelta64(1, \"D\")\n",
        "\n",
        "# Agg transaction data to id\n",
        "trans_features = transactions.groupby('id').agg({\n",
        "    'last_purchase': 'min',\n",
        "    'date': ['nunique', 'min'],\n",
        "    'amt': 'sum',\n",
        "})\n",
        "\n",
        "# Compute RFM columns\n",
        "trans_features['recency'] = trans_features['last_purchase']['min']\n",
        "trans_features['frequency'] = (trans_features['date']['nunique']\n",
        "                               / ((max_date - trans_features['date']['min']) / np.timedelta64(1, \"D\")))\n",
        "trans_features['monetary'] = trans_features['amt']['sum']\n",
        "\n",
        "# Select out required features\n",
        "trans_features = trans_features[['recency', 'frequency', 'monetary']].reset_index()\n",
        "trans_features.columns = trans_features.columns.get_level_values(0)\n",
        "trans_features.head()"
      ],
      "execution_count": null,
      "outputs": []
    },
    {
      "cell_type": "markdown",
      "source": [
        "## Convert Datetime"
      ],
      "metadata": {
        "id": "DkHhW_HZHRMI"
      }
    },
    {
      "cell_type": "code",
      "source": [
        "# Rank the sorted sales, with 1 being the highest sales\n",
        "weekday_ranks = weekday_sales.rank(method='min', ascending=False)\n",
        "# Convert the ranks to a dictionary\n",
        "weekday_rank_dict = weekday_ranks.to_dict()\n",
        "weekday_rank_dict"
      ],
      "metadata": {
        "id": "uLChbQxjG_Hz"
      },
      "execution_count": null,
      "outputs": []
    },
    {
      "cell_type": "code",
      "source": [
        "# Rank the sorted sales, with 1 being the highest sales\n",
        "month_ranks = monthly_sales.rank(method='min', ascending=False)\n",
        "# Convert the ranks to a dictionary\n",
        "month_rank_dict = month_ranks.to_dict()\n",
        "month_rank_dict"
      ],
      "metadata": {
        "id": "pGH5OIllG601"
      },
      "execution_count": null,
      "outputs": []
    },
    {
      "cell_type": "markdown",
      "source": [
        "## Encode Catagorical Features in transactions"
      ],
      "metadata": {
        "id": "7yfs3d_K9hvi"
      }
    },
    {
      "cell_type": "code",
      "source": [
        "unique_manufacturers = len(transactions['manufacturer'].unique())\n",
        "unique_categories = len(transactions['category'].unique())\n",
        "unique_brands = len(transactions['brand'].unique())\n",
        "\n",
        "print(f\"Unique manufacturers: {unique_manufacturers}\")\n",
        "print(f\"Unique categories: {unique_categories}\")\n",
        "print(f\"Unique brands: {unique_brands}\")"
      ],
      "metadata": {
        "id": "Vh7emRuf7biy"
      },
      "execution_count": null,
      "outputs": []
    },
    {
      "cell_type": "code",
      "source": [
        "# Calculate popularity counts for 'category'\n",
        "category_counts = transactions['category'].value_counts()\n",
        "# Convert to dictionary\n",
        "category_popularity_dict = category_counts.to_dict()\n",
        "\n",
        "# Calculate popularity counts for 'manufacturer'\n",
        "manufacturer_counts = transactions['manufacturer'].value_counts()\n",
        "# Convert to dictionary\n",
        "manufacturer_popularity_dict = manufacturer_counts.to_dict()\n",
        "\n",
        "# Calculate popularity counts for 'brand'\n",
        "brand_counts = transactions['brand'].value_counts()\n",
        "# Convert to dictionary\n",
        "brand_popularity_dict = brand_counts.to_dict()\n",
        "\n",
        "# Output the dictionaries to verify\n",
        "print(\"Category Popularity Dict:\", category_popularity_dict)\n",
        "print(\"Manufacturer Popularity Dict:\", manufacturer_popularity_dict)\n",
        "print(\"Brand Popularity Dict:\", brand_popularity_dict)"
      ],
      "metadata": {
        "id": "CfKWM0tL-zYz"
      },
      "execution_count": null,
      "outputs": []
    },
    {
      "cell_type": "markdown",
      "source": [
        "This approach groups  entities into 10 popularity levels, with 1 being the least popular and 10 the most popular, based on their frequency in the dataset."
      ],
      "metadata": {
        "id": "iks_wfyRB91P"
      }
    },
    {
      "cell_type": "markdown",
      "source": [
        "## Store info"
      ],
      "metadata": {
        "id": "_vuUCLWLAleR"
      }
    },
    {
      "cell_type": "code",
      "source": [
        "# Define store size based on number of unique products in a store.\n",
        "# product number is defined by grouping by 'store' and counting unique combinations of 'category', 'manufacturer', and 'brand' for each store\n",
        "store_size_dict = unique_products_per_store.to_dict()\n",
        "print(store_size_dict)"
      ],
      "metadata": {
        "id": "k4bP8ccS9l9M"
      },
      "execution_count": null,
      "outputs": []
    },
    {
      "cell_type": "code",
      "source": [
        "# store_sales = transactions.groupby('store')['amt'].sum().reset_index()\n",
        "# store_sales.rename(columns={'amt': 'store_sales'}, inplace=True)\n",
        "# store_sales_dict = dict(zip(store_sales['store'], store_sales['store_sales']))\n",
        "# print(store_sales_dict)"
      ],
      "metadata": {
        "id": "wto5uhHv_6_W"
      },
      "execution_count": null,
      "outputs": []
    },
    {
      "cell_type": "code",
      "source": [
        "# # Group transactions by store and calculate the number of unique product sizes\n",
        "# unique_product_sizes_per_store = transactions.groupby('store')['productsize'].nunique().reset_index()\n",
        "# unique_product_sizes_per_store_dict = dict(zip(unique_product_sizes_per_store['store'], unique_product_sizes_per_store['productsize']))\n",
        "# print(unique_product_sizes_per_store_dict)"
      ],
      "metadata": {
        "id": "rltsabn_GTte"
      },
      "execution_count": null,
      "outputs": []
    },
    {
      "cell_type": "markdown",
      "source": [
        "## Customers"
      ],
      "metadata": {
        "id": "6h4VOghJukIq"
      }
    },
    {
      "cell_type": "markdown",
      "source": [
        "A higher ratio might indicate less price sensitivity (returns are more significant when they happen)"
      ],
      "metadata": {
        "id": "eXCplxyVqjax"
      }
    },
    {
      "cell_type": "code",
      "source": [
        "# # Filter out the return transactions (assuming returns are indicated by negative amounts)\n",
        "# returns = transactions[transactions['amt'] < 0]\n",
        "\n",
        "# # Aggregate the total return amount by customer\n",
        "# return_history = returns.groupby('id')['amt'].sum().reset_index(name='total_return_amount')\n",
        "\n",
        "# # Count the number of return instances by customer and convert to DataFrame\n",
        "# return_times = returns.groupby('id').size().reset_index(name='total_return_time')\n",
        "\n",
        "# # Merge the total return amount and return times DataFrames on 'id'\n",
        "# return_history = return_history.merge(return_times, on='id')\n",
        "\n",
        "# # Calculate return behavior\n",
        "# return_history['return_behavior'] = return_history['total_return_amount'].abs() / return_history['total_return_time']\n",
        "\n",
        "# # Replace infinite values with NaN if any division by zero occurred, then fill with a sensible value\n",
        "# return_history['return_behavior'].replace([np.inf, -np.inf], np.nan, inplace=True)\n",
        "# return_history['return_behavior'].fillna(0, inplace=True)  # Assuming 0 for when there's no returns\n",
        "\n",
        "# # Convert the return history to a dictionary\n",
        "# return_history_abs_dict = return_history.set_index('id')['return_behavior'].to_dict()\n",
        "\n",
        "# # Output the dictionary to verify\n",
        "# print(return_history_abs_dict)"
      ],
      "metadata": {
        "id": "1UBify61kinG"
      },
      "execution_count": null,
      "outputs": []
    },
    {
      "cell_type": "code",
      "source": [
        "# transactions['date'] = pd.to_datetime(transactions['date'])\n",
        "# transactions_2012 = transactions[(transactions['date'].dt.year == 2012) &\n",
        "#                                  (transactions['date'].dt.month.isin([3, 4]))]\n",
        "# customer_spending = transactions_2012.groupby(['id', transactions_2012['date'].dt.month])['amt'].sum().reset_index()\n",
        "# customer_spending.rename(columns={'date': 'month', 'amt': 'total_spent'}, inplace=True)\n",
        "# march_spending = customer_spending[customer_spending['month'] == 3]\n",
        "# april_spending = customer_spending[customer_spending['month'] == 4]\n",
        "\n",
        "# march_dict = dict(zip(march_spending['id'], march_spending['total_spent']))\n",
        "# april_dict = dict(zip(april_spending['id'], april_spending['total_spent']))\n",
        "\n",
        "# # Output the dictionaries to verify\n",
        "# print(\"March spending:\", march_dict)\n",
        "# print(\"April spending:\", april_dict)"
      ],
      "metadata": {
        "id": "SgLKf5mY9-ra"
      },
      "execution_count": null,
      "outputs": []
    },
    {
      "cell_type": "code",
      "source": [
        "# Calculate the standard deviation of 'amt' for each customer\n",
        "std_transaction_customer = transactions.groupby('id')['amt'].std()\n",
        "\n",
        "# Convert the Series to a dictionary\n",
        "std_transaction_customer_dict = std_transaction_customer.to_dict()\n",
        "\n",
        "# Display the dictionary\n",
        "print(std_transaction_customer_dict)"
      ],
      "metadata": {
        "id": "XSPCxZiiZy04"
      },
      "execution_count": null,
      "outputs": []
    },
    {
      "cell_type": "code",
      "source": [
        "# # Step 1: Aggregate the total amount spent by each customer\n",
        "# customer_spending = transactions.groupby('id')['amt'].sum().reset_index()\n",
        "# customer_spending.rename(columns={'amt': 'total_spent'}, inplace=True)\n",
        "\n",
        "# # Step 2: Rank customers into deciles based on total spent\n",
        "# customer_spending['customer_id_rank'] = pd.qcut(customer_spending['total_spent'], 20, labels=False) + 1\n",
        "\n",
        "# id_rank_dict = customer_spending.set_index('id')['customer_id_rank'].to_dict()\n",
        "# # Output the dictionary to verify\n",
        "# print(id_rank_dict)"
      ],
      "metadata": {
        "id": "as3o6d_Qm7hK"
      },
      "execution_count": null,
      "outputs": []
    },
    {
      "cell_type": "code",
      "source": [
        "# # Group transactions by customer and store, then count the number of transactions\n",
        "# customer_store_visits = transactions.groupby(['id', 'store']).size().reset_index(name='visit_count')\n",
        "# customer_store_visits_dict = customer_store_visits.set_index('id')['visit_count'].to_dict()\n",
        "# # Display the DataFrame with visit count for each customer-store combination\n",
        "# print(customer_store_visits_dict)"
      ],
      "metadata": {
        "id": "vVtZ4dw8rXOe"
      },
      "execution_count": null,
      "outputs": []
    },
    {
      "cell_type": "code",
      "source": [
        "# Group by customer ID and manufacturer, then count occurrences\n",
        "manufacturer_counts_per_customer = transactions.groupby(['id', 'manufacturer']).size().reset_index(name='count')\n",
        "\n",
        "# Calculate the total number of transactions per customer\n",
        "total_transactions_per_customer = transactions.groupby('id').size().reset_index(name='total')\n",
        "\n",
        "# Merge the counts with total transactions to calculate percentages\n",
        "merged_data = pd.merge(manufacturer_counts_per_customer, total_transactions_per_customer, on='id')\n",
        "\n",
        "# Calculate percentage of total transactions for each manufacturer per customer\n",
        "merged_data['percentage'] = (merged_data['count'] / merged_data['total']) * 100\n",
        "\n",
        "# Sort the results by customer ID and the percentage in descending order to see most significant first\n",
        "sorted_manufacturers_per_customer = merged_data.sort_values(by=['id', 'percentage'], ascending=[True, False])\n",
        "\n",
        "# Create a dictionary with key as (id, manufacturer) and value as percentage\n",
        "customer_manufacturer_dict = dict(zip(zip(merged_data['id'], merged_data['manufacturer']), merged_data['percentage']))\n",
        "\n",
        "# # Output the dictionary to verify\n",
        "# customer_manufacturer_dict"
      ],
      "metadata": {
        "id": "dT245X0ZFyL9"
      },
      "execution_count": null,
      "outputs": []
    },
    {
      "cell_type": "code",
      "source": [
        "# Group by customer ID and brand, then count occurrences\n",
        "brand_counts_per_customer = transactions.groupby(['id', 'brand']).size().reset_index(name='count')\n",
        "\n",
        "# Calculate the total number of transactions per customer\n",
        "total_transactions_per_customer = transactions.groupby('id').size().reset_index(name='total')\n",
        "\n",
        "# Merge the counts with total transactions to calculate percentages\n",
        "merged_data_brand = pd.merge(brand_counts_per_customer, total_transactions_per_customer, on='id')\n",
        "\n",
        "# Calculate percentage of total transactions for each brand per customer\n",
        "merged_data_brand['percentage'] = (merged_data_brand['count'] / merged_data_brand['total']) * 100\n",
        "\n",
        "# Sort the results by customer ID and the percentage in descending order\n",
        "sorted_brands_per_customer = merged_data_brand.sort_values(by=['id', 'percentage'], ascending=[True, False])\n",
        "\n",
        "# Create a dictionary with key as (id, brand) and value as percentage\n",
        "customer_brand_dict = dict(zip(zip(merged_data_brand['id'], merged_data_brand['brand']), merged_data_brand['percentage']))\n",
        "\n",
        "# # Output the dictionary to verify\n",
        "# print(customer_brand_dict)"
      ],
      "metadata": {
        "id": "H-XUI_xgGRb8"
      },
      "execution_count": null,
      "outputs": []
    },
    {
      "cell_type": "code",
      "source": [
        "# Group by customer ID and category, then count occurrences\n",
        "category_counts_per_customer = transactions.groupby(['id', 'category']).size().reset_index(name='count')\n",
        "\n",
        "# Calculate the total number of transactions per customer\n",
        "total_transactions_per_customer = transactions.groupby('id').size().reset_index(name='total')\n",
        "\n",
        "# Merge the counts with total transactions to calculate percentages\n",
        "merged_data_category = pd.merge(category_counts_per_customer, total_transactions_per_customer, on='id')\n",
        "\n",
        "# Calculate percentage of total transactions for each category per customer\n",
        "merged_data_category['percentage'] = (merged_data_category['count'] / merged_data_category['total']) * 100\n",
        "\n",
        "# Sort the results by customer ID and the percentage in descending order\n",
        "sorted_categories_per_customer = merged_data_category.sort_values(by=['id', 'percentage'], ascending=[True, False])\n",
        "\n",
        "# Create a dictionary with key as (id, brand) and value as percentage\n",
        "customer_category_dict = dict(zip(zip(merged_data_category['id'], merged_data_category['category']), merged_data_category['percentage']))\n",
        "\n",
        "# # Output the dictionary to verify\n",
        "# print(customer_category_dict)"
      ],
      "metadata": {
        "id": "wDOigg4AGVQx"
      },
      "execution_count": null,
      "outputs": []
    },
    {
      "cell_type": "code",
      "source": [
        "# # Unique Categories Purchased\n",
        "# customer_category = transactions.groupby('id')['category'].nunique().reset_index(name='category_favor')\n",
        "# customer_category_num_dict = customer_category.set_index('id')['category_favor'].to_dict()\n",
        "# print(customer_category_num_dict)\n",
        "# # Unique Brand Purchased\n",
        "# customer_brand = transactions.groupby('id')['brand'].nunique().reset_index(name='brand_favor')\n",
        "# customer_brand_num_dict = customer_brand.set_index('id')['brand_favor'].to_dict()\n",
        "# print(customer_brand_num_dict)\n",
        "# # Unique manufacturer Purchased\n",
        "# customer_manufacturer = transactions.groupby('id')['manufacturer'].nunique().reset_index(name='manufacturer_favor')\n",
        "# customer_manufacturer_num_dict = customer_manufacturer.set_index('id')['manufacturer_favor'].to_dict()\n",
        "# print(customer_manufacturer_num_dict)"
      ],
      "metadata": {
        "id": "XGzFytKoP35C"
      },
      "execution_count": null,
      "outputs": []
    },
    {
      "cell_type": "markdown",
      "metadata": {
        "id": "PP6h3QGaIaSW"
      },
      "source": [
        "# Generate train sets"
      ]
    },
    {
      "cell_type": "code",
      "source": [
        "train_history = pd.read_csv(path + '/train_history.csv.gz', parse_dates=['promodate'])"
      ],
      "metadata": {
        "id": "D3ZbOm5bLitg"
      },
      "execution_count": null,
      "outputs": []
    },
    {
      "cell_type": "markdown",
      "source": [
        "### modify train_history"
      ],
      "metadata": {
        "id": "wlwVLVNQMS_t"
      }
    },
    {
      "cell_type": "code",
      "source": [
        "# Convert 'promodate' to datetime\n",
        "train_history['promodate'] = pd.to_datetime(train_history['promodate'])\n",
        "\n",
        "# # Extract month and weekday from 'promodate'\n",
        "# # train_history['month'] = train_history['promodate'].dt.month  # Extracts the month as a number\n",
        "train_history['weekday'] = train_history['promodate'].dt.weekday  # Extracts the weekday as a number (Monday=0, Sunday=6)\n",
        "\n",
        "# # Optionally, you might want to have the month and weekday names instead of numbers\n",
        "# # train_history['month_name'] = train_history['promodate'].dt.strftime('%B')  # Extracts the name of the month\n",
        "# train_history['weekday_name'] = train_history['promodate'].dt.strftime('%A')  # Extracts the name of the weekday\n",
        "\n",
        "# # Map the month and weekday names to their ranks\n",
        "# # train_history['month_rank'] = train_history['month_name'].map(month_rank_dict)\n",
        "# train_history['weekday_rank'] = train_history['weekday_name'].map(weekday_rank_dict)\n",
        "# train_history['weekday'] = train_history['weekday']+1\n",
        "# train_history.drop(columns=['promodate', 'weekday_name'], inplace=True)\n",
        "\n",
        "# train_history['region_popularity'] = train_history['region'].map(region_popularity_dict)\n",
        "# # Display the DataFrame to verify the changes\n",
        "# train_history.head()"
      ],
      "metadata": {
        "id": "ZPoEuvvAJTWg"
      },
      "execution_count": null,
      "outputs": []
    },
    {
      "cell_type": "code",
      "source": [
        "train_history = train_history.merge(promos, on='promo', how='left')\n",
        "\n",
        "# Map the category, manufacturer and brand to their ranks\n",
        "train_history['category_rank'] = train_history['category'].map(category_popularity_dict)\n",
        "train_history['manufacturer_rank'] = train_history['manufacturer'].map(manufacturer_popularity_dict)\n",
        "# train_history['brand_rank'] = train_history['brand'].map(brand_popularity_dict)\n",
        "# train_history['total_rank'] = train_history['category_rank'] + train_history['manufacturer_rank'] + train_history['brand_rank']\n",
        "\n",
        "# Map the store factors\n",
        "train_history['store_size'] = train_history['store'].map(store_size_dict)\n",
        "# train_history['store_sale'] = train_history['store'].map(store_sales_dict)\n",
        "# train_history['store_performance'] = train_history['store_sale']/train_history['store_size']\n",
        "\n",
        "# Map the customer factors\n",
        "# General function to retrieve customer preferences from a dictionary\n",
        "def get_customer_preference(row, dictionary, attribute_name):\n",
        "    return dictionary.get((row['id'], row[attribute_name]), 0)\n",
        "\n",
        "train_history['customer_category_favor'] = train_history.apply(lambda row: get_customer_preference(row, customer_category_dict, 'category'), axis=1)\n",
        "train_history['customer_brand_favor'] = train_history.apply(lambda row: get_customer_preference(row, customer_brand_dict, 'brand'), axis=1)\n",
        "train_history['customer_manufacturer_favor'] = train_history.apply(lambda row: get_customer_preference(row, customer_manufacturer_dict, 'manufacturer'), axis=1)\n",
        "\n",
        "# train_history['customer_store_visits'] = train_history['id'].map(customer_store_visits_dict)\n",
        "# train_history.customer_store_visits.fillna(0, inplace=True)\n",
        "# train_history['std_transaction_customer'] = train_history['id'].map(std_transaction_customer_dict)\n",
        "# train_history['std_transaction_customer'].fillna(0, inplace=True)\n",
        "# train_history['customer_rank'] = train_history['id'].map(id_rank_dict)\n",
        "# train_history['customer_rank'].fillna(0, inplace=True)\n",
        "# train_history['return_behavior'] = train_history['id'].map(return_history_abs_dict)\n",
        "# train_history['return_behavior'].fillna(0, inplace=True)\n",
        "# train_history['customer_total_category'] = train_history['id'].map(customer_category_num_dict)\n",
        "# train_history['customer_total_brand'] = train_history['id'].map(customer_brand_num_dict)\n",
        "# train_history['customer_total_manufacturer'] = train_history['id'].map(customer_manufacturer_num_dict)\n",
        "# train_history['customer_total_category'].fillna(0, inplace=True)\n",
        "# train_history['customer_total_brand'].fillna(0, inplace=True)\n",
        "# train_history['customer_total_manufacturer'].fillna(0, inplace=True)\n",
        "# Display the DataFrame to verify the changes\n",
        "train_history.head()"
      ],
      "metadata": {
        "id": "Cc31lP8EKmXZ"
      },
      "execution_count": null,
      "outputs": []
    },
    {
      "cell_type": "code",
      "source": [
        "# Initialize the LabelEncoder\n",
        "label_encoder_region = LabelEncoder()\n",
        "\n",
        "# Fit the label encoder and transform the 'region' column\n",
        "train_history['region_encoded'] = label_encoder_region.fit_transform(train_history['region'])"
      ],
      "metadata": {
        "id": "y3TevRAJhTcz"
      },
      "execution_count": null,
      "outputs": []
    },
    {
      "cell_type": "code",
      "source": [
        "# Generate train/test features from trans_features\n",
        "train_history = train_history.merge(trans_features, on='id', how='left')\n",
        "train_history.recency.fillna(365, inplace=True)\n",
        "train_history.frequency.fillna(0, inplace=True)\n",
        "train_history.monetary.fillna(0, inplace=True)\n",
        "train_history['recency'] = train_history['recency'] + train_history['promodate'].dt.day\n",
        "# Display the DataFrame to verify the changes\n",
        "train_history.drop(columns=['category', 'manufacturer', 'brand', 'store','promoqty'], inplace=True)\n",
        "train_history.head()"
      ],
      "metadata": {
        "id": "Dz75IjMtI640"
      },
      "execution_count": null,
      "outputs": []
    },
    {
      "cell_type": "code",
      "source": [
        "train_history.active.value_counts()"
      ],
      "metadata": {
        "id": "-ptobVvA4KU0"
      },
      "execution_count": null,
      "outputs": []
    },
    {
      "cell_type": "code",
      "source": [
        "train_history.columns.values"
      ],
      "metadata": {
        "id": "Dsx3An6WMlXu"
      },
      "execution_count": null,
      "outputs": []
    },
    {
      "cell_type": "code",
      "metadata": {
        "id": "hMgkSNKcIaSW"
      },
      "source": [
        "# # 'month', 'promoqty', 'month_rank'\n",
        "# x_cols = ['promoval',\n",
        "#        'total_rank', 'store_performance',\n",
        "#        'customer_category_favor', 'customer_brand_favor',\n",
        "#        'customer_manufacturer_favor', 'std_transaction_customer',\n",
        "#        'recency', 'frequency', 'monetary']\n",
        "x_cols = ['weekday',\n",
        "       'promoval', 'category_rank', 'manufacturer_rank', 'store_size',\n",
        "       'customer_category_favor', 'customer_brand_favor',\n",
        "       'customer_manufacturer_favor','region_encoded',\n",
        "       'recency', 'frequency', 'monetary']\n",
        "y_col = 'active'"
      ],
      "execution_count": null,
      "outputs": []
    },
    {
      "cell_type": "code",
      "source": [
        "columns = x_cols + [y_col]  # Append the target column to the list of feature columns\n",
        "\n",
        "# Calculate the correlation matrix\n",
        "correlation = train_history[columns].corr()\n",
        "\n",
        "# Plotting the correlation matrix\n",
        "plt.figure(figsize=(10, 8))\n",
        "sns.heatmap(correlation, annot=True, cmap='coolwarm', fmt=\".2f\", linewidths=.5)\n",
        "plt.title('Correlation Matrix')\n",
        "plt.show()"
      ],
      "metadata": {
        "id": "ekBOKD8VW_Qt"
      },
      "execution_count": null,
      "outputs": []
    },
    {
      "cell_type": "markdown",
      "source": [
        "### not useful"
      ],
      "metadata": {
        "id": "MEHgDOTAhnGS"
      }
    },
    {
      "cell_type": "code",
      "source": [
        "# unique_manufacturers = len(train_history['manufacturer'].unique())\n",
        "# unique_categories = len(train_history['category'].unique())\n",
        "# unique_brands = len(train_history['brand'].unique())\n",
        "\n",
        "# print(f\"Unique manufacturers: {unique_manufacturers}\")\n",
        "# print(f\"Unique categories: {unique_categories}\")\n",
        "# print(f\"Unique brands: {unique_brands}\")"
      ],
      "metadata": {
        "id": "7ZCw_6TBC-Pt"
      },
      "execution_count": null,
      "outputs": []
    },
    {
      "cell_type": "code",
      "source": [
        "# # Convert date columns to datetime if not already\n",
        "# transactions['date'] = pd.to_datetime(transactions['date'])\n",
        "# train_history['promodate'] = pd.to_datetime(train_history['promodate'])\n",
        "\n",
        "# # Filter transactions to only include those from 2012\n",
        "# transactions_2012 = transactions[transactions['date'].dt.year == 2012]\n",
        "\n",
        "# # Sum the transaction amounts for each date in 2012\n",
        "# daily_sums_2012 = transactions_2012.groupby(transactions_2012['date'].dt.date)['amt'].sum()\n",
        "\n",
        "# # Function to adjust the year of promodate to 2012\n",
        "# def adjust_year_to_2012(date):\n",
        "#     return date.replace(year=2012)\n",
        "\n",
        "# # Apply this function to promodate to create a new column for adjusted dates\n",
        "# train_history['adjusted_date'] = train_history['promodate'].apply(adjust_year_to_2012)\n",
        "\n",
        "# # Map the summed amounts from 2012 to the adjusted dates in train_history\n",
        "# train_history['same_day_amt_2012'] = train_history['adjusted_date'].map(daily_sums_2012)\n",
        "\n",
        "# # Drop the adjusted_date column if no longer needed\n",
        "# train_history.drop(columns=['adjusted_date'], inplace=True)\n",
        "# train_history['same_day_amt_2012'].fillna(0, inplace=True)\n",
        "# # # Output the train_history to verify\n",
        "# # train_history.head()"
      ],
      "metadata": {
        "id": "tdg5unWqEZjA"
      },
      "execution_count": null,
      "outputs": []
    },
    {
      "cell_type": "code",
      "source": [
        "# # Convert date columns to datetime if not already\n",
        "# transactions['date'] = pd.to_datetime(transactions['date'])\n",
        "# train_history['promodate'] = pd.to_datetime(train_history['promodate'])\n",
        "\n",
        "# # Create aggregates before merging\n",
        "# # # Aggregate by manufacturer\n",
        "# # agg_manufacturer = transactions.groupby(['id', 'manufacturer']).agg(previous_spend_manufacturer=('amt', 'sum')).reset_index()\n",
        "\n",
        "# # # Aggregate by brand\n",
        "# # agg_brand = transactions.groupby(['id', 'brand']).agg(previous_spend_brand=('amt', 'sum')).reset_index()\n",
        "\n",
        "# # Aggregate by category\n",
        "# agg_category = transactions.groupby(['id', 'category']).agg(previous_purchases_time_category=('id', 'count')).reset_index()\n",
        "\n",
        "# # Aggregate by all - count the number of transactions instead of summing the amount\n",
        "# agg_all = transactions.groupby(['id', 'manufacturer', 'brand', 'category']).agg(previous_purchases_time_exact=('id', 'count')).reset_index()\n",
        "\n",
        "# # Merge each aggregate back into train_history on respective keys\n",
        "# # train_history = train_history.merge(agg_manufacturer, on=['id', 'manufacturer'], how='left')\n",
        "# # train_history = train_history.merge(agg_brand, on=['id', 'brand'], how='left')\n",
        "# train_history = train_history.merge(agg_category, on=['id', 'category'], how='left')\n",
        "# train_history = train_history.merge(agg_all, on=['id', 'manufacturer', 'brand', 'category'], how='left')\n",
        "\n",
        "# # Fill NaN values with 0 if no transactions matched\n",
        "# # train_history.fillna({'previous_spend_manufacturer': 0, 'previous_spend_brand': 0, 'previous_spend_category': 0, 'previous_spend_exact':0}, inplace=True)\n",
        "\n",
        "# train_history.fillna({'previous_purchases_time_category':0, 'previous_purchases_time_exact':0}, inplace=True)\n",
        "\n",
        "# # train_history.head()"
      ],
      "metadata": {
        "id": "Ds2rbZu0alc8"
      },
      "execution_count": null,
      "outputs": []
    },
    {
      "cell_type": "markdown",
      "metadata": {
        "id": "gNtWx0TAIaSX"
      },
      "source": [
        "# Build Model"
      ]
    },
    {
      "cell_type": "code",
      "source": [
        "#@title helper function - backward_feature_elimination\n",
        "# from sklearn.model_selection import cross_val_score\n",
        "# def backward_feature_elimination(X, y, initial_features, estimator, scoring='roc_auc', cv=5):\n",
        "#     \"\"\"\n",
        "#     Perform backward feature elimination using an XGBoost model.\n",
        "\n",
        "#     Parameters:\n",
        "#     X (DataFrame): Feature dataset\n",
        "#     y (Series): Target variable\n",
        "#     initial_features (list): List of initial features to consider\n",
        "#     estimator (XGBClassifier or XGBRegressor): The XGBoost model\n",
        "#     scoring (str): Scoring metric name for model evaluation\n",
        "#     cv (int): Number of cross-validation folds\n",
        "\n",
        "#     Returns:\n",
        "#     list: List of selected features\n",
        "#     \"\"\"\n",
        "#     features = initial_features.copy()\n",
        "#     best_score = np.mean(cross_val_score(estimator, X[initial_features], y, scoring=scoring, cv=cv))\n",
        "#     selected_features = features.copy()\n",
        "\n",
        "#     while len(features) > 0:\n",
        "#         scores = {}\n",
        "#         for feature in features:\n",
        "#             temp_features = [f for f in features if f != feature]\n",
        "#             score = np.mean(cross_val_score(estimator, X[temp_features], y, scoring=scoring, cv=cv))\n",
        "#             scores[feature] = score\n",
        "\n",
        "#         best_feature = max(scores, key=scores.get)\n",
        "#         if scores[best_feature] > best_score:\n",
        "#             best_score = scores[best_feature]\n",
        "#             selected_features = [f for f in features if f != best_feature]\n",
        "#             print(f\"Removing feature {best_feature} improved score to {best_score}. Remaining features: {len(selected_features)}\")\n",
        "#             features.remove(best_feature)\n",
        "#         else:\n",
        "#             print(f\"No improvement by removing any feature. Stopping.\")\n",
        "#             break\n",
        "\n",
        "#     return selected_features"
      ],
      "metadata": {
        "cellView": "form",
        "id": "p3MEiTMGVu4T"
      },
      "execution_count": null,
      "outputs": []
    },
    {
      "cell_type": "markdown",
      "source": [
        "### split dataset"
      ],
      "metadata": {
        "id": "7nHhOACeoHMq"
      }
    },
    {
      "cell_type": "code",
      "source": [
        "X = train_history[x_cols]\n",
        "y = train_history[y_col]\n",
        "X_train, X_test, y_train, y_test = train_test_split(X, y, test_size=0.20, random_state=42)\n",
        "\n",
        "# # Apply SMOTE\n",
        "# smote = SMOTE(random_state=42)\n",
        "# X_train, y_train = smote.fit_resample(X_train, y_train)\n",
        "\n",
        "# # Rescale the features\n",
        "# scaler = StandardScaler().fit(X_train_resampled)  # Fit scaler to the oversampled training set\n",
        "# X_train_scaled = scaler.transform(X_train_resampled)\n",
        "# X_test_scaled = scaler.transform(X_test)  # Apply the same scaler to the test set\n",
        "\n",
        "# # Rescale the features\n",
        "# scaler = StandardScaler().fit(X_train)\n",
        "# X_train = scaler.transform(X_train)\n",
        "# X_test = scaler.transform(X_test)"
      ],
      "metadata": {
        "id": "dL3SzRzDoBrR"
      },
      "execution_count": null,
      "outputs": []
    },
    {
      "cell_type": "markdown",
      "source": [
        "## Xgboost"
      ],
      "metadata": {
        "id": "BnwwT9GeYPgM"
      }
    },
    {
      "cell_type": "code",
      "source": [
        "import xgboost as xgb\n",
        "\n",
        "# Initialize XGBoost model\n",
        "xg_model = xgb.XGBClassifier(objective='binary:logistic')\n",
        "\n",
        "# Fit the model\n",
        "xg_model.fit(X_train, y_train)\n",
        "y_pred = xg_model.predict(X_test)\n",
        "\n",
        "print(classification_report(y_test, y_pred))\n",
        "print('Test Accuracy: {:.5f}'.format(xg_model.score(X_test, y_test)))\n",
        "print('Test AUC: {:.5f}'.format(roc_auc_score(y_test, xg_model.predict_proba(X_test)[:, 1])))"
      ],
      "metadata": {
        "id": "kjeXHOCcYTrG"
      },
      "execution_count": null,
      "outputs": []
    },
    {
      "cell_type": "code",
      "source": [
        "# # Initialize the XGBoost classifier\n",
        "# model = xgb.XGBClassifier(objective='binary:logistic', n_estimators=100, learning_rate=0.03, max_depth=4, min_child_weight=7, gamma=0.3, colsample_bytree = 1.0, subsample = 0.5)\n",
        "\n",
        "# @title backward feature selection\n",
        "# selected_features = backward_feature_elimination(X_train, y_train, x_cols, model)\n",
        "# print(\"Selected features:\", selected_features)\n",
        "\n",
        "# selected_features = ['promoval', 'total_rank', 'store_performance', 'customer_category_favor', 'customer_brand_favor', 'customer_rank', 'std_transaction_customer', 'return_behavior', 'recency']\n",
        "\n",
        "# X = train_history[selected_features]\n",
        "# y = train_history[y_col]\n",
        "# X_train, X_test, y_train, y_test = train_test_split(X, y, test_size=0.20, random_state=42)"
      ],
      "metadata": {
        "id": "dvsOw5bwT3nK",
        "cellView": "form"
      },
      "execution_count": null,
      "outputs": []
    },
    {
      "cell_type": "markdown",
      "source": [
        "Model performance decreased after backward feature selection"
      ],
      "metadata": {
        "id": "meH2lbhiOUMe"
      }
    },
    {
      "cell_type": "markdown",
      "source": [
        " precision    recall  f1-score   support\n",
        "\n",
        "         0.0       0.83      0.96      0.89      3201\n",
        "         1.0       0.52      0.19      0.28       799\n",
        "\n",
        "    accuracy                           0.80      4000\n",
        "   macro avg       0.67      0.57      0.58      4000\n",
        "weighted avg       0.76      0.80      0.76      4000\n",
        "\n",
        "Test Accuracy: 0.80300\n",
        "Test AUC: 0.66471\n",
        "\n",
        "Model performance decreased after feature selection"
      ],
      "metadata": {
        "id": "T03ZPvfEzla2"
      }
    },
    {
      "cell_type": "code",
      "source": [
        "# # from sklearn.model_selection import RandomizedSearchCV\n",
        "# #@title hyperparameter tuning\n",
        "# param_grid = {\n",
        "#     'max_depth': [3, 4, 5, 6],  # Slightly increasing max_depth to try capturing more complex patterns\n",
        "#     'n_estimators': [100, 150, 200],  # Evaluating a modest increase in the number of trees\n",
        "#     'learning_rate': [0.01, 0.03, 0.05, 0.1],  # Experimenting around the current learning rate\n",
        "#     # 'min_child_weight': [2, 3, 4, 5, 6, 7],  # Considering even lower values for sensitivity to the minority class\n",
        "#     # 'gamma': [0, 0.1, 0.3],  # Gamma can help with regularization and prevent overfitting\n",
        "#     # 'colsample_bytree': [0.5, 0.7, 1.0],  # Balancing the number of features in each tree\n",
        "#     # 'subsample': [0.5, 0.7, 1.0],  # Balancing the number of samples in each tree\n",
        "#     'scale_pos_weight': [1, 1.5, 2, 2.5, (3201 / 799)]  # Balancing the minority class\n",
        "# }\n",
        "\n",
        "# # Create a base model\n",
        "# model = xgb.XGBClassifier(objective='binary:logistic')\n",
        "\n",
        "# # Setup GridSearchCV\n",
        "# grid_search = GridSearchCV(\n",
        "#     estimator=model,\n",
        "#     param_grid=param_grid,\n",
        "#     cv=5,\n",
        "#     scoring='roc_auc',  # Optimize for ROC AUC\n",
        "#     n_jobs=1  # Use all available CPU cores\n",
        "# )\n",
        "\n",
        "# # Fit GridSearchCV to the training data\n",
        "# grid_search_result = grid_search.fit(X_train, y_train)\n",
        "\n",
        "# # Output the best parameters and best score\n",
        "# print(\"Best AUC: %f using %s\" % (grid_search_result.best_score_, grid_search_result.best_params_))"
      ],
      "metadata": {
        "id": "MgPNlwYbgdCo"
      },
      "execution_count": null,
      "outputs": []
    },
    {
      "cell_type": "markdown",
      "source": [
        "Best AUC: 0.690430 using {'learning_rate': 0.1, 'max_depth': 3, 'n_estimators': 100, 'scale_pos_weight': 2.5}\n"
      ],
      "metadata": {
        "id": "xh_o-aGheIFy"
      }
    },
    {
      "cell_type": "code",
      "source": [
        "# Output the best parameters and best score\n",
        "xg_model_grid = xgb.XGBClassifier(objective='binary:logistic', n_estimators=100, learning_rate=0.1, max_depth=3, scale_pos_weight=2.5)\n",
        "\n",
        "# Fit the model\n",
        "xg_model_grid.fit(X_train, y_train)\n",
        "y_pred = xg_model_grid.predict(X_test)\n",
        "\n",
        "print(classification_report(y_test, y_pred))\n",
        "print('Test Accuracy: {:.5f}'.format(xg_model_grid.score(X_test, y_test)))\n",
        "print('Test AUC: {:.5f}'.format(roc_auc_score(y_test, xg_model_grid.predict_proba(X_test)[:, 1])))"
      ],
      "metadata": {
        "id": "Y8mholzKh68D"
      },
      "execution_count": null,
      "outputs": []
    },
    {
      "cell_type": "code",
      "source": [
        "xgb.plot_importance(xg_model_grid)  # Shows the top features\n",
        "plt.title('Feature Importance')\n",
        "plt.show()"
      ],
      "metadata": {
        "id": "1wjMPXbm9mLu"
      },
      "execution_count": null,
      "outputs": []
    },
    {
      "cell_type": "markdown",
      "source": [
        "# Best Model"
      ],
      "metadata": {
        "id": "CnCgp0G9vZIH"
      }
    },
    {
      "cell_type": "code",
      "source": [
        "# Output the best parameters and best score\n",
        "xg_model_best = xgb.XGBClassifier(objective='binary:logistic', n_estimators=100, learning_rate=0.1, max_depth=3, scale_pos_weight=2.5)\n",
        "\n",
        "# Fit the model\n",
        "xg_model_best.fit(X, y)\n",
        "print('Train Accuracy: {:.5f}'.format(xg_model_best.score(X, y)))\n",
        "print('Train AUC: {:.5f}'.format(roc_auc_score(y, xg_model_best.predict_proba(X)[:, 1])))"
      ],
      "metadata": {
        "id": "5kl7chKAvYUx"
      },
      "execution_count": null,
      "outputs": []
    },
    {
      "cell_type": "markdown",
      "metadata": {
        "id": "SIJGxsv3IaSY"
      },
      "source": [
        "# Generate Prediction"
      ]
    },
    {
      "cell_type": "code",
      "source": [
        "test_history = pd.read_csv(path + '/test_history.csv.gz', parse_dates=['promodate'])"
      ],
      "metadata": {
        "id": "FhhJZQAmvL4i"
      },
      "execution_count": null,
      "outputs": []
    },
    {
      "cell_type": "markdown",
      "source": [
        "### modify test_history"
      ],
      "metadata": {
        "id": "tiF9huINMVpY"
      }
    },
    {
      "cell_type": "code",
      "source": [
        "# Fit the label encoder and transform the 'region' column\n",
        "test_history['region_encoded'] = label_encoder_region.transform(test_history['region'])\n",
        "# Convert 'promodate' to datetime\n",
        "test_history['promodate'] = pd.to_datetime(test_history['promodate'])\n",
        "# Extract month and weekday from 'promodate'\n",
        "test_history['weekday'] = test_history['promodate'].dt.weekday  # Extracts the weekday as a number (Monday=0, Sunday=6)"
      ],
      "metadata": {
        "id": "XrKR0jmfMXms"
      },
      "execution_count": null,
      "outputs": []
    },
    {
      "cell_type": "code",
      "source": [
        "# Merge test_history with promos DataFrame\n",
        "test_history = test_history.merge(promos, on='promo', how='left')\n",
        "\n",
        "# Map the category, manufacturer, and brand to their ranks\n",
        "test_history['category_rank'] = test_history['category'].map(category_popularity_dict)\n",
        "test_history['manufacturer_rank'] = test_history['manufacturer'].map(manufacturer_popularity_dict)\n",
        "test_history['brand_rank'] = test_history['brand'].map(brand_popularity_dict)\n",
        "test_history['total_rank'] = test_history['category_rank'] + test_history['manufacturer_rank'] + test_history['brand_rank']\n",
        "\n",
        "# Map the store factors\n",
        "test_history['store_size'] = test_history['store'].map(store_size_dict)\n",
        "# test_history['store_sale'] = test_history['store'].map(store_sales_dict)\n",
        "# test_history['store_performance'] = test_history['store_sale'] / test_history['store_size']\n",
        "\n",
        "# Map the customer factors using the generalized function\n",
        "def get_customer_preference(row, dictionary, attribute_name):\n",
        "    return dictionary.get((row['id'], row[attribute_name]), 0)\n",
        "\n",
        "test_history['customer_category_favor'] = test_history.apply(lambda row: get_customer_preference(row, customer_category_dict, 'category'), axis=1)\n",
        "test_history['customer_brand_favor'] = test_history.apply(lambda row: get_customer_preference(row, customer_brand_dict, 'brand'), axis=1)\n",
        "test_history['customer_manufacturer_favor'] = test_history.apply(lambda row: get_customer_preference(row, customer_manufacturer_dict, 'manufacturer'), axis=1)"
      ],
      "metadata": {
        "id": "gkDCxHoONTNC"
      },
      "execution_count": null,
      "outputs": []
    },
    {
      "cell_type": "code",
      "metadata": {
        "id": "5KCkRKPsIaSX"
      },
      "source": [
        "# Merge test_history with the transaction features on 'id' and perform a left join\n",
        "test_history = test_history.merge(trans_features, on='id', how='left')\n",
        "\n",
        "# Fill missing values for 'recency', 'frequency', and 'monetary' with appropriate defaults\n",
        "test_history.recency.fillna(365, inplace=True)  # Assuming no transaction within a year\n",
        "test_history.frequency.fillna(0, inplace=True)  # Assuming no repeat transactions\n",
        "test_history.monetary.fillna(0, inplace=True)   # Assuming no monetary transactions\n",
        "test_history['recency'] = test_history['recency'] + test_history['promodate'].dt.day\n",
        "# Display the DataFrame to verify the changes\n",
        "test_history.drop(columns=['category', 'manufacturer', 'brand', 'store','promoqty'], inplace=True)\n",
        "test_history.head()"
      ],
      "execution_count": null,
      "outputs": []
    },
    {
      "cell_type": "markdown",
      "source": [
        "final features: ['weekday',\n",
        "       'promoval', 'category_rank', 'manufacturer_rank', 'store_size',\n",
        "       'customer_category_favor', 'customer_brand_favor',\n",
        "       'customer_manufacturer_favor', 'customer_rank', 'recency',\n",
        "       'frequency', 'monetary']"
      ],
      "metadata": {
        "id": "_csRB4kKDxOG"
      }
    },
    {
      "cell_type": "code",
      "source": [
        "X_predict = test_history[x_cols]\n",
        "# X_predict = test_history[selected_features]\n",
        "predict_out = test_history[['id', 'active']].copy()\n",
        "X_predict.head(10)"
      ],
      "metadata": {
        "id": "jgbA4ABHQeVF"
      },
      "execution_count": null,
      "outputs": []
    },
    {
      "cell_type": "markdown",
      "source": [
        "### predict"
      ],
      "metadata": {
        "id": "rHqZAc7rM8LG"
      }
    },
    {
      "cell_type": "code",
      "metadata": {
        "id": "5_yNT76IIaSZ"
      },
      "source": [
        "predict_out['active'] = xg_model_best.predict_proba(X_predict)[:, 1]\n",
        "# predict_out['active'] = best_forest.predict_proba(X_predict)[:, 1]\n",
        "predict_out"
      ],
      "execution_count": null,
      "outputs": []
    },
    {
      "cell_type": "code",
      "metadata": {
        "id": "GUnz-r4vIaSa"
      },
      "source": [
        "predict_out.to_csv('predict.csv', header=True, index=False)\n",
        "predict_out.head()"
      ],
      "execution_count": null,
      "outputs": []
    },
    {
      "cell_type": "code",
      "metadata": {
        "id": "p2E4EKhCWEC5"
      },
      "source": [
        "# This will download your prediction files\n",
        "from google.colab import files\n",
        "files.download('predict.csv')"
      ],
      "execution_count": null,
      "outputs": []
    },
    {
      "cell_type": "markdown",
      "source": [
        "# Not considered models\n",
        "\n"
      ],
      "metadata": {
        "id": "nmVMsBV_iZCl"
      }
    },
    {
      "cell_type": "markdown",
      "source": [
        "## RandomForestClassifier"
      ],
      "metadata": {
        "id": "BwR0KGZ-OTCF"
      }
    },
    {
      "cell_type": "code",
      "metadata": {
        "id": "2cOegEvpIaSY"
      },
      "source": [
        "# model = RandomForestClassifier()\n",
        "# model.fit(X_train, y_train)\n",
        "# y_pred = model.predict(X_test)\n",
        "\n",
        "# print(classification_report(y_test, y_pred))\n",
        "# print('Test Accuracy: {:.5f}'.format(model.score(X_test, y_test)))\n",
        "# print('Test AUC: {:.5f}'.format(roc_auc_score(y_test, model.predict_proba(X_test)[:, 1])))"
      ],
      "execution_count": null,
      "outputs": []
    },
    {
      "cell_type": "code",
      "source": [
        "# # Expanded and enriched parameter grid\n",
        "# param_grid_rfc = {\n",
        "#     'n_estimators': [100, 200, 300, 500],  # Added more options for number of trees\n",
        "#     'max_features': ['sqrt', 'log2', None],  # Added float options specifying the fraction of features to consider\n",
        "#     'max_depth': [6, 9, 12, 15, None],  # Included None to allow unlimited depth\n",
        "#     'max_leaf_nodes': [6, 9, 12, 15, None],  # Included None to allow unlimited leaf nodes\n",
        "#     'min_samples_split': [2, 5, 10],  # Added minimum number of samples required to split an internal node\n",
        "#     'min_samples_leaf': [1, 2, 4],  # Added minimum number of samples required to be at a leaf node\n",
        "#     'bootstrap': [True, False]  # Whether bootstrap samples are used when building trees\n",
        "# }\n",
        "\n",
        "# # Create the RandomForest classifier base model\n",
        "# rf_model = RandomForestClassifier()\n",
        "\n",
        "# # Setup GridSearchCV\n",
        "# grid_search = GridSearchCV(\n",
        "#     estimator=rf_model,\n",
        "#     param_grid=param_grid_rfc,\n",
        "#     cv=5,\n",
        "#     scoring='roc_auc',  # Use ROC AUC as the score to optimize\n",
        "#     n_jobs=-1  # Using all available cores\n",
        "# )\n",
        "\n",
        "# # Fit GridSearchCV to the training data\n",
        "# grid_search_result = grid_search.fit(X_train, y_train)\n",
        "\n",
        "# # Output the best parameters and best score found by GridSearchCV\n",
        "# print(\"Best estimator:\", grid_search_result.best_estimator_)\n",
        "# print(\"Best score:\", grid_search_result.best_score_)\n"
      ],
      "metadata": {
        "id": "oqJ6IxzZUHwT"
      },
      "execution_count": null,
      "outputs": []
    },
    {
      "cell_type": "code",
      "source": [
        "# model_grid = RandomForestClassifier(bootstrap=False, max_depth=6, max_features='log2',\n",
        "#                        min_samples_leaf=2, min_samples_split=10,\n",
        "#                        n_estimators=500)\n",
        "# model_grid.fit(X_train, y_train)\n",
        "# y_pred_grid = model_grid.predict(X_test)\n",
        "# print(classification_report(y_test, y_pred_grid))\n",
        "# print('Test Accuracy: {:.5f}'.format(model_grid.score(X_test, y_test)))\n",
        "# print('Test AUC: {:.5f}'.format(roc_auc_score(y_test, model_grid.predict_proba(X_test)[:, 1])))"
      ],
      "metadata": {
        "id": "9gMaH9MANsip"
      },
      "execution_count": null,
      "outputs": []
    },
    {
      "cell_type": "code",
      "source": [
        "# # 'month', 'promoqty', 'month_rank', 'return_behavior','frequency'\n",
        "# x_cols = [\n",
        "#  'promoval',\n",
        "#  'total_rank',\n",
        "#  'store_performance',\n",
        "#  'customer_category_favor',\n",
        "#  'customer_brand_favor',\n",
        "#  'customer_manufacturer_favor',\n",
        "#  'std_transaction_customer',\n",
        "#  'previous_purchases_time_exact',\n",
        "#  'monetary']\n",
        "# y_col = 'active'\n",
        "\n",
        "# X = train_history[x_cols]\n",
        "# y = train_history[y_col]\n",
        "# X_train, X_test, y_train, y_test = train_test_split(X, y, test_size=0.20, random_state=42)"
      ],
      "metadata": {
        "id": "tN6WEjIDPNsB"
      },
      "execution_count": null,
      "outputs": []
    },
    {
      "cell_type": "code",
      "source": [
        "# # Get feature importances\n",
        "# feature_importances = model_grid.feature_importances_\n",
        "\n",
        "# # Create a DataFrame to display feature importances\n",
        "# feature_importance_df = pd.DataFrame({'Feature': X_train.columns, 'Importance': feature_importances})\n",
        "# feature_importance_df = feature_importance_df.sort_values(by='Importance', ascending=False)\n",
        "\n",
        "# # Plot feature importances\n",
        "# plt.figure(figsize=(10, 6))\n",
        "# plt.barh(feature_importance_df['Feature'], feature_importance_df['Importance'], color='skyblue')\n",
        "# plt.xlabel('Importance Score')\n",
        "# plt.ylabel('Feature')\n",
        "# plt.title('Feature Importance')\n",
        "# plt.gca().invert_yaxis()  # Invert y-axis to show most important features at the top\n",
        "# plt.show()"
      ],
      "metadata": {
        "id": "r_v9IF3QDHsj"
      },
      "execution_count": null,
      "outputs": []
    },
    {
      "cell_type": "markdown",
      "source": [
        "## ANN"
      ],
      "metadata": {
        "id": "AjLgu7lgOWLH"
      }
    },
    {
      "cell_type": "code",
      "source": [
        "# from sklearn.utils import shuffle\n",
        "# from sklearn import preprocessing\n",
        "# from keras.layers import Dense, Dropout\n",
        "# from keras.models import Sequential\n",
        "# from keras.optimizers import Adam\n",
        "# from keras.metrics import AUC\n",
        "# from scikeras.wrappers import KerasClassifier"
      ],
      "metadata": {
        "id": "T-2DkNuVq-kk"
      },
      "execution_count": null,
      "outputs": []
    },
    {
      "cell_type": "code",
      "source": [
        "# # create ANN model\n",
        "# model = Sequential()\n",
        "\n",
        "# # Define the 1st hidden layer\n",
        "# model.add(Dense(70, input_dim = X_train_scaled.shape[1], activation='relu'))\n",
        "\n",
        "# # model.add(Dropout(0.2))\n",
        "\n",
        "# # Define the Output layer\n",
        "# model.add(Dense(1, activation='sigmoid'))\n",
        "\n",
        "# # Compiling the model\n",
        "# model.compile(loss='binary_crossentropy', optimizer=\"adam\", metrics=[\"accuracy\", AUC()])\n",
        "\n",
        "# # Fitting the ANN to the Training set\n",
        "# model.fit(X_train_scaled, y_train ,batch_size = 8, epochs = 70, verbose=1)"
      ],
      "metadata": {
        "id": "Q06CzuGwOSZD"
      },
      "execution_count": null,
      "outputs": []
    },
    {
      "cell_type": "code",
      "source": [
        "# from sklearn.metrics import roc_auc_score, roc_curve\n",
        "# # Make predictions with the model\n",
        "# probabilities = model.predict(X_test_scaled)  # This will give you the probabilities of class 1\n",
        "# # Calculate the ROC AUC score\n",
        "# auc = roc_auc_score(y_test, probabilities)\n",
        "# print(f\"ROC AUC Score: {auc}\")"
      ],
      "metadata": {
        "id": "2DF5gqKdRwVI"
      },
      "execution_count": null,
      "outputs": []
    },
    {
      "cell_type": "code",
      "source": [
        "# # Calculate ROC curve\n",
        "# fpr, tpr, thresholds = roc_curve(y_test, probabilities)\n",
        "\n",
        "# # Create plot\n",
        "# plt.figure(figsize=(8, 6))\n",
        "# plt.plot(fpr, tpr, color='darkorange', label=f'ROC curve (area = {auc:.2f})')\n",
        "# plt.plot([0, 1], [0, 1], color='navy', linestyle='--')\n",
        "# plt.xlabel('False Positive Rate')\n",
        "# plt.ylabel('True Positive Rate')\n",
        "# plt.title('Receiver Operating Characteristic (ROC) Curve')\n",
        "# plt.legend(loc=\"lower right\")\n",
        "# plt.show()"
      ],
      "metadata": {
        "id": "M3pSI7VRSUjT"
      },
      "execution_count": null,
      "outputs": []
    },
    {
      "cell_type": "markdown",
      "source": [
        "## LogisticRegression"
      ],
      "metadata": {
        "id": "4p7jo_3Rr1Xj"
      }
    },
    {
      "cell_type": "code",
      "source": [
        "# from sklearn.linear_model import LogisticRegression\n",
        "# # Model Training\n",
        "# model_logit = LogisticRegression()\n",
        "# model_logit.fit(X_train_scaled, y_train)\n",
        "\n",
        "# # Model Evaluation\n",
        "# print('Test Accuracy: {:.5f}'.format(model_logit.score(X_test_scaled, y_test)))\n",
        "# print('Test AUC: {:.5f}'.format(roc_auc_score(y_test, model_logit.predict_proba(X_test_scaled)[:, 1])))"
      ],
      "metadata": {
        "id": "cRPx8Ppp_ALJ"
      },
      "execution_count": null,
      "outputs": []
    },
    {
      "cell_type": "code",
      "source": [
        "# # Define the parameter grid to search\n",
        "# param_grid = {\n",
        "#     'C': [0.001, 0.01, 0.1, 1, 10, 100],  # Regularization parameter\n",
        "#     'penalty': ['l1', 'l2'],  # Penalty term\n",
        "#     'solver': ['liblinear', 'saga']  # Algorithm to use in optimization problem\n",
        "# }\n",
        "\n",
        "# # Create a logistic regression model\n",
        "# model_logit = LogisticRegression()\n",
        "\n",
        "# # Perform grid search with cross-validation\n",
        "# grid_search = GridSearchCV(estimator=model_logit, param_grid=param_grid, cv=5, scoring='roc_auc')\n",
        "# grid_search.fit(X_train_scaled, y_train)\n",
        "\n",
        "# # Get the best hyperparameters and model\n",
        "# best_params = grid_search.best_params_\n",
        "# best_model = grid_search.best_estimator_\n",
        "\n",
        "# # Print the best hyperparameters\n",
        "# print(\"Best Hyperparameters:\", best_params)"
      ],
      "metadata": {
        "id": "C1ctTCLfEI0s"
      },
      "execution_count": null,
      "outputs": []
    },
    {
      "cell_type": "code",
      "source": [
        "# # Retrain the best model on the full training data\n",
        "# best_logit = LogisticRegression(C=1, penalty='l1', solver='liblinear')\n",
        "# best_logit.fit(X_train_scaled, y_train)\n",
        "# # Model Evaluation\n",
        "# print('Test Accuracy: {:.5f}'.format(best_logit.score(X_test_scaled, y_test)))\n",
        "# print('Test AUC: {:.5f}'.format(roc_auc_score(y_test, best_logit.predict_proba(X_test_scaled)[:, 1])))"
      ],
      "metadata": {
        "id": "mR1CJ65tEemh"
      },
      "execution_count": null,
      "outputs": []
    },
    {
      "cell_type": "code",
      "source": [
        "# # Calculate feature importance\n",
        "# feature_importance = np.abs(best_logit.coef_[0])\n",
        "# feature_names = X_train.columns\n",
        "\n",
        "# # Create a DataFrame to display feature importances\n",
        "# feature_importance_logit = pd.DataFrame({'Feature': feature_names, 'Importance': feature_importance})\n",
        "# feature_importance_logit = feature_importance_logit.sort_values(by='Importance', ascending=False)\n",
        "\n",
        "# # Plot feature importances\n",
        "# plt.figure(figsize=(10, 6))\n",
        "# plt.barh(feature_importance_logit['Feature'], feature_importance_logit['Importance'], color='lightgreen')\n",
        "# plt.xlabel('Importance Score')\n",
        "# plt.ylabel('Feature')\n",
        "# plt.title('Feature Importance (Logistic Regression)')\n",
        "# plt.gca().invert_yaxis()  # Invert y-axis to show most important features at the top\n",
        "# plt.show()"
      ],
      "metadata": {
        "id": "sITWD9LcDYLl"
      },
      "execution_count": null,
      "outputs": []
    }
  ]
}